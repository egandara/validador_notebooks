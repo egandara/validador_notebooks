{
 "cells": [
  {
   "cell_type": "markdown",
   "metadata": {
    "application/vnd.databricks.v1+cell": {
     "cellMetadata": {
      "byteLimit": 2048000,
      "rowLimit": 10000
     },
     "inputWidgets": {},
     "nuid": "f4352a4e-f4c7-4310-a21b-ae671f4bd5db",
     "showTitle": false,
     "tableResultSettingsMap": {},
     "title": ""
    }
   },
   "source": [
    "# BCI_004_Matriz_Comercial_B1_Factoring"
   ]
  },
  {
   "cell_type": "markdown",
   "metadata": {
    "application/vnd.databricks.v1+cell": {
     "cellMetadata": {
      "byteLimit": 2048000,
      "rowLimit": 10000
     },
     "inputWidgets": {},
     "nuid": "1fd3a4aa-a9e2-4bbe-9168-929532d27439",
     "showTitle": false,
     "tableResultSettingsMap": {},
     "title": ""
    }
   },
   "source": [
    "## Información del Notebook"
   ]
  },
  {
   "cell_type": "markdown",
   "metadata": {
    "application/vnd.databricks.v1+cell": {
     "cellMetadata": {
      "byteLimit": 2048000,
      "rowLimit": 10000
     },
     "inputWidgets": {},
     "nuid": "78fb6037-6b71-49c3-b83d-1bc8e03813ca",
     "showTitle": false,
     "tableResultSettingsMap": {},
     "title": ""
    }
   },
   "source": [
    "### Encabezado\n",
    "**************************************************************************\n",
    "* Nombre: \n",
    "* Ruta: \n",
    "* Autor: Esteban Gándara\n",
    "* Ing. Rafael Montecinos - rafael.montecinost@bci.cl\n",
    "* Fecha: 19/05/2025\n",
    "* Descripción: \n",
    "* Documentación: \n",
    "***************************************************************************"
   ]
  },
  {
   "cell_type": "markdown",
   "metadata": {
    "application/vnd.databricks.v1+cell": {
     "cellMetadata": {
      "byteLimit": 2048000,
      "rowLimit": 10000
     },
     "inputWidgets": {},
     "nuid": "4bc27ba2-ac12-4b3a-9afe-22fd3cdbbc67",
     "showTitle": false,
     "tableResultSettingsMap": {},
     "title": ""
    }
   },
   "source": [
    "### Mantenciones\n",
    "**************************************************************************\n",
    "#### Mantención Nro: \n",
    "* Autor: <Nombre Autor> (<Empresa del Autor (Bci/Otra)>) - Ing. SW BCI: <Nombre Ing. SW BCI>\n",
    "* Fecha: <dd/mm/yyyy> \n",
    "* Descripción: <Descripción de la mantención>      \n",
    "************************************************"
   ]
  },
  {
   "cell_type": "markdown",
   "metadata": {
    "application/vnd.databricks.v1+cell": {
     "cellMetadata": {
      "byteLimit": 2048000,
      "rowLimit": 10000
     },
     "inputWidgets": {},
     "nuid": "caca1b06-42cb-404a-a54c-130594c7d0c3",
     "showTitle": false,
     "tableResultSettingsMap": {},
     "title": ""
    }
   },
   "source": [
    "### Tablas Entrada y Salida\n",
    "**************************************************************************\n",
    "#### Tablas Entrada: \n",
    "* \n",
    "* \n",
    "***************************************************************************\n",
    "#### Tablas Salida: \n",
    "* "
   ]
  },
  {
   "cell_type": "markdown",
   "metadata": {
    "application/vnd.databricks.v1+cell": {
     "cellMetadata": {
      "byteLimit": 2048000,
      "rowLimit": 10000
     },
     "inputWidgets": {},
     "nuid": "74185635-8a77-4fb4-bb8b-6eeaa351fe81",
     "showTitle": false,
     "tableResultSettingsMap": {},
     "title": ""
    }
   },
   "source": [
    "## Captura de Variables"
   ]
  },
  {
   "cell_type": "code",
   "execution_count": 0,
   "metadata": {
    "application/vnd.databricks.v1+cell": {
     "cellMetadata": {
      "byteLimit": 2048000,
      "rowLimit": 10000
     },
     "inputWidgets": {},
     "nuid": "3943d14d-8ac5-4b77-ae0d-b45bb734812f",
     "showTitle": false,
     "tableResultSettingsMap": {},
     "title": ""
    }
   },
   "outputs": [],
   "source": [
    "dbutils.widgets.removeAll()\n",
    "dbutils.widgets.text(\"fechaProcesoW\",\"\",\"01 Fecha Proceso :\")\n",
    "dbutils.widgets.text(\"platinum_temp_dbW\",\"\",\"02 platinum temp db:\")\n",
    "dbutils.widgets.text(\"db_location_platinum_tempW\",\"\",\"03 Location DB Platinum Temp:\")\n",
    "dbutils.widgets.text(\"slv_RiesgoCred_RiesgoCredEmp_dbW\",\"\",\"04 RiesgoCred_RiesgoCredEmpdb:\")"
   ]
  },
  {
   "cell_type": "markdown",
   "metadata": {
    "application/vnd.databricks.v1+cell": {
     "cellMetadata": {
      "byteLimit": 2048000,
      "rowLimit": 10000
     },
     "inputWidgets": {},
     "nuid": "78a06e10-f276-4d30-a5ce-16a92c3fa7a3",
     "showTitle": false,
     "tableResultSettingsMap": {},
     "title": ""
    }
   },
   "source": [
    "### Asignar Objeto a Lectura de Widgets y Variables"
   ]
  },
  {
   "cell_type": "code",
   "execution_count": 0,
   "metadata": {
    "application/vnd.databricks.v1+cell": {
     "cellMetadata": {
      "byteLimit": 2048000,
      "rowLimit": 10000
     },
     "inputWidgets": {},
     "nuid": "e04238c7-091d-4820-86e6-23c23f7937d0",
     "showTitle": false,
     "tableResultSettingsMap": {},
     "title": ""
    }
   },
   "outputs": [
    {
     "output_type": "stream",
     "name": "stdout",
     "output_type": "stream",
     "text": [
      "*****Parámetros*****\nfechaProcesoX: 20250530\nplatinum_temp_dbX: dsr_plt_bcitemp_db\ndb_location_platinum_tempX: abfss://platinum@bcirg2dlssbx.dfs.core.windows.net/plt_normativo_db/prv_hip/\nslv_RiesgoCred_RiesgoCredEmp_dbX: dsr_slv_RiesgoCred_RiesgoCredEmp_db\n"
     ]
    }
   ],
   "source": [
    "fechaProcesoX = dbutils.widgets.get(\"fechaProcesoW\")\n",
    "spark.conf.set(\"bci.fechaProcesoX\", fechaProcesoX)\n",
    "\n",
    "platinum_temp_dbX = dbutils.widgets.get(\"platinum_temp_dbW\")\n",
    "spark.conf.set(\"bci.platinum_temp_dbX\", platinum_temp_dbX)\n",
    "\n",
    "db_location_platinum_tempX = dbutils.widgets.get(\"db_location_platinum_tempW\")\n",
    "spark.conf.set(\"bci.db_location_platinum_tempX\", db_location_platinum_tempX)\n",
    "\n",
    "slv_RiesgoCred_RiesgoCredEmp_dbX = dbutils.widgets.get(\"slv_RiesgoCred_RiesgoCredEmp_dbW\")\n",
    "spark.conf.set(\"bci.slv_RiesgoCred_RiesgoCredEmp_dbX\", slv_RiesgoCred_RiesgoCredEmp_dbX)\n",
    "\n",
    "print(\"*****Parámetros*****\")\n",
    "print(\"fechaProcesoX: \" + fechaProcesoX)\n",
    "print(\"platinum_temp_dbX: \" + platinum_temp_dbX)\n",
    "print(\"db_location_platinum_tempX: \" + db_location_platinum_tempX)\n",
    "print(\"slv_RiesgoCred_RiesgoCredEmp_dbX: \" + slv_RiesgoCred_RiesgoCredEmp_dbX)"
   ]
  },
  {
   "cell_type": "markdown",
   "metadata": {
    "application/vnd.databricks.v1+cell": {
     "cellMetadata": {
      "byteLimit": 2048000,
      "rowLimit": 10000
     },
     "inputWidgets": {},
     "nuid": "e8a3825a-48e8-4e01-8774-c12b73bb1cca",
     "showTitle": false,
     "tableResultSettingsMap": {},
     "title": ""
    }
   },
   "source": [
    "### Librerías"
   ]
  },
  {
   "cell_type": "code",
   "execution_count": 0,
   "metadata": {
    "application/vnd.databricks.v1+cell": {
     "cellMetadata": {
      "byteLimit": 2048000,
      "rowLimit": 10000
     },
     "inputWidgets": {},
     "nuid": "25e192fc-ceb5-4d4e-b5c6-6575fc3267c9",
     "showTitle": false,
     "tableResultSettingsMap": {},
     "title": ""
    }
   },
   "outputs": [],
   "source": [
    "import json\n",
    "from datetime import datetime, date, time, timedelta\n",
    "from dateutil.relativedelta import relativedelta\n",
    "\n",
    "# Obtener fecha actual\n",
    "current_date_str = datetime.now().strftime(\"%Y-%m-%d\")\n",
    "current_date = datetime.strptime(current_date_str, \"%Y-%m-%d\")\n",
    "formatted_date = str(current_date.strftime(\"%Y%m%d\"))"
   ]
  },
  {
   "cell_type": "markdown",
   "metadata": {
    "application/vnd.databricks.v1+cell": {
     "cellMetadata": {
      "byteLimit": 2048000,
      "rowLimit": 10000
     },
     "inputWidgets": {},
     "nuid": "03eb81fd-f82d-4906-8b44-eefb3087b33f",
     "showTitle": false,
     "tableResultSettingsMap": {},
     "title": ""
    }
   },
   "source": [
    "###Asigan Variables de fecha"
   ]
  },
  {
   "cell_type": "code",
   "execution_count": 0,
   "metadata": {
    "application/vnd.databricks.v1+cell": {
     "cellMetadata": {
      "byteLimit": 2048000,
      "rowLimit": 10000
     },
     "inputWidgets": {},
     "nuid": "adaf39c0-efcc-48f7-9683-b9cab818dadb",
     "showTitle": false,
     "tableResultSettingsMap": {},
     "title": ""
    }
   },
   "outputs": [
    {
     "output_type": "stream",
     "name": "stdout",
     "output_type": "stream",
     "text": [
      "fecha_Formato1: 2025\nfecha_Formato2: 05\nfecha_Formato3: 30\nfecha_Formato4: 2025-05-30\nfecha_Formato5: 30-05-2025\nfecha_Formato6: 202505\nfecha_Formato7: 20250530\nfecha_formato8: 2025/05/30\n"
     ]
    }
   ],
   "source": [
    "ano = str(fechaProcesoX)[:4]\n",
    "mes = str(fechaProcesoX)[4:][:2]\n",
    "dia = str(fechaProcesoX)[6:][:2]\n",
    "fechanormativo = str(ano+'-'+mes+'-'+dia)\n",
    "fechacinta = str(dia+'-'+mes+'-'+ano)\n",
    "anomes = str(ano+mes)\n",
    "anomesdia = str(ano+mes+dia)\n",
    "anomesdia2 = str(ano+'/'+mes+'/'+dia)\n",
    "\n",
    "\n",
    "print(\"fecha_Formato1: \" + ano)\n",
    "print(\"fecha_Formato2: \" + mes)\n",
    "print(\"fecha_Formato3: \" + dia)\n",
    "print(\"fecha_Formato4: \" + fechanormativo)\n",
    "print(\"fecha_Formato5: \" + fechacinta)\n",
    "print(\"fecha_Formato6: \" + anomes)\n",
    "print(\"fecha_Formato7: \" + anomesdia)\n",
    "print(\"fecha_formato8: \" + anomesdia2)"
   ]
  },
  {
   "cell_type": "markdown",
   "metadata": {
    "application/vnd.databricks.v1+cell": {
     "cellMetadata": {
      "byteLimit": 2048000,
      "rowLimit": 10000
     },
     "inputWidgets": {},
     "nuid": "6a709862-2df7-418c-8bf1-9bdcdbcbfd7c",
     "showTitle": false,
     "tableResultSettingsMap": {},
     "title": ""
    }
   },
   "source": [
    "## Funciones"
   ]
  },
  {
   "cell_type": "code",
   "execution_count": 0,
   "metadata": {
    "application/vnd.databricks.v1+cell": {
     "cellMetadata": {
      "byteLimit": 2048000,
      "rowLimit": 10000
     },
     "inputWidgets": {},
     "nuid": "7ae6f089-b763-462f-b7a6-e7974cf9a04e",
     "showTitle": false,
     "tableResultSettingsMap": {},
     "title": ""
    }
   },
   "outputs": [
    {
     "output_type": "display_data",
     "data": {
      "text/markdown": [
       "Fecha vacía"
      ]
     },
     "metadata": {},
     "output_type": "display_data"
    },
    {
     "output_type": "display_data",
     "data": {
      "text/markdown": [
       "Fecha futura"
      ]
     },
     "metadata": {},
     "output_type": "display_data"
    }
   ],
   "source": [
    "%run \"./Funciones\""
   ]
  },
  {
   "cell_type": "markdown",
   "metadata": {
    "application/vnd.databricks.v1+cell": {
     "cellMetadata": {
      "byteLimit": 2048000,
      "rowLimit": 10000
     },
     "inputWidgets": {},
     "nuid": "07f11dc0-0ec9-4cef-83cf-144889c9797e",
     "showTitle": false,
     "tableResultSettingsMap": {},
     "title": ""
    }
   },
   "source": [
    "## Validaciones"
   ]
  },
  {
   "cell_type": "markdown",
   "metadata": {
    "application/vnd.databricks.v1+cell": {
     "cellMetadata": {
      "byteLimit": 2048000,
      "rowLimit": 10000
     },
     "inputWidgets": {},
     "nuid": "c0084792-6fa5-48a0-8815-b3913c40c3d1",
     "showTitle": false,
     "tableResultSettingsMap": {},
     "title": ""
    }
   },
   "source": [
    "### Fecha vacía"
   ]
  },
  {
   "cell_type": "code",
   "execution_count": 0,
   "metadata": {
    "application/vnd.databricks.v1+cell": {
     "cellMetadata": {
      "byteLimit": 2048000,
      "rowLimit": 10000
     },
     "inputWidgets": {},
     "nuid": "8376be7d-0589-4097-9425-7d05eeb39008",
     "showTitle": false,
     "tableResultSettingsMap": {},
     "title": ""
    }
   },
   "outputs": [],
   "source": [
    "fecha_vacia(fechaProcesoX)"
   ]
  },
  {
   "cell_type": "markdown",
   "metadata": {
    "application/vnd.databricks.v1+cell": {
     "cellMetadata": {
      "byteLimit": 2048000,
      "rowLimit": 10000
     },
     "inputWidgets": {},
     "nuid": "776655f8-19c8-4e72-939c-173ba642fd57",
     "showTitle": false,
     "tableResultSettingsMap": {},
     "title": ""
    }
   },
   "source": [
    "### Fecha futura"
   ]
  },
  {
   "cell_type": "code",
   "execution_count": 0,
   "metadata": {
    "application/vnd.databricks.v1+cell": {
     "cellMetadata": {
      "byteLimit": 2048000,
      "rowLimit": 10000
     },
     "inputWidgets": {},
     "nuid": "e0a16dee-3428-41ce-9e8c-a5282150650b",
     "showTitle": false,
     "tableResultSettingsMap": {},
     "title": ""
    }
   },
   "outputs": [],
   "source": [
    "fecha_futura(fechaProcesoX)"
   ]
  },
  {
   "cell_type": "markdown",
   "metadata": {
    "application/vnd.databricks.v1+cell": {
     "cellMetadata": {
      "byteLimit": 2048000,
      "rowLimit": 10000
     },
     "inputWidgets": {},
     "nuid": "15f878d9-1115-43ac-af7f-d1996b8c491d",
     "showTitle": false,
     "tableResultSettingsMap": {},
     "title": ""
    }
   },
   "source": [
    "## Inicio de Lógica"
   ]
  },
  {
   "cell_type": "markdown",
   "metadata": {
    "application/vnd.databricks.v1+cell": {
     "cellMetadata": {
      "byteLimit": 2048000,
      "rowLimit": 10000
     },
     "inputWidgets": {},
     "nuid": "70f80bbc-b37c-439e-aae9-c4275afcbcfd",
     "showTitle": false,
     "tableResultSettingsMap": {},
     "title": ""
    }
   },
   "source": [
    "### Creación de tablas temporales que se eliminarán al final de la ejecución\n",
    "\n",
    "**************************************************************************"
   ]
  },
  {
   "cell_type": "markdown",
   "metadata": {
    "application/vnd.databricks.v1+cell": {
     "cellMetadata": {
      "byteLimit": 2048000,
      "rowLimit": 10000
     },
     "inputWidgets": {},
     "nuid": "17e3b723-1bc2-49c8-8a77-1a6984fb06b0",
     "showTitle": false,
     "tableResultSettingsMap": {},
     "title": ""
    }
   },
   "source": [
    "#### Tabla Origen: erc_prs_cba_hist"
   ]
  },
  {
   "cell_type": "code",
   "execution_count": 0,
   "metadata": {
    "application/vnd.databricks.v1+cell": {
     "cellMetadata": {
      "byteLimit": 2048000,
      "rowLimit": 10000
     },
     "inputWidgets": {},
     "nuid": "e38626ad-3d4b-4aac-9d7a-8e02b1e35da6",
     "showTitle": false,
     "tableResultSettingsMap": {},
     "title": ""
    }
   },
   "outputs": [],
   "source": [
    "drop_tmp_003_erc_prs_cba_hist_rut = \"\"\" DROP TABLE IF EXISTS \"\"\" + platinum_temp_dbX + \"\"\".Tmp_erc_prs_cba_hist_rut \"\"\""
   ]
  },
  {
   "cell_type": "code",
   "execution_count": 0,
   "metadata": {
    "application/vnd.databricks.v1+cell": {
     "cellMetadata": {
      "byteLimit": 2048000,
      "rowLimit": 10000
     },
     "inputWidgets": {},
     "nuid": "b04c10d9-a855-4493-9dc8-d5fb1c59d6d4",
     "showTitle": false,
     "tableResultSettingsMap": {},
     "title": ""
    }
   },
   "outputs": [
    {
     "output_type": "stream",
     "name": "stdout",
     "output_type": "stream",
     "text": [
      "sql_safe: query ->  DROP TABLE IF EXISTS dsr_plt_bcitemp_db.Tmp_erc_prs_cba_hist_rut \n"
     ]
    },
    {
     "output_type": "execute_result",
     "data": {
      "text/plain": [
       "DataFrame[]"
      ]
     },
     "execution_count": 11,
     "metadata": {},
     "output_type": "execute_result"
    }
   ],
   "source": [
    "sql_safe(drop_tmp_003_erc_prs_cba_hist_rut)"
   ]
  },
  {
   "cell_type": "code",
   "execution_count": 0,
   "metadata": {
    "application/vnd.databricks.v1+cell": {
     "cellMetadata": {
      "byteLimit": 2048000,
      "rowLimit": 10000
     },
     "inputWidgets": {},
     "nuid": "d5e45c39-19f9-4e0a-abde-a3ac8d9c776a",
     "showTitle": false,
     "tableResultSettingsMap": {},
     "title": ""
    }
   },
   "outputs": [
    {
     "output_type": "execute_result",
     "data": {
      "text/plain": [
       "True"
      ]
     },
     "execution_count": 12,
     "metadata": {},
     "output_type": "execute_result"
    }
   ],
   "source": [
    "dbutils.fs.rm(db_location_platinum_tempX+\"Tmp_erc_prs_cba_hist_rut\", True)"
   ]
  },
  {
   "cell_type": "code",
   "execution_count": 0,
   "metadata": {
    "application/vnd.databricks.v1+cell": {
     "cellMetadata": {
      "byteLimit": 2048000,
      "rowLimit": 10000
     },
     "inputWidgets": {},
     "nuid": "62339e10-2e84-4acf-86e8-ba7b2ed7588b",
     "showTitle": false,
     "tableResultSettingsMap": {},
     "title": ""
    }
   },
   "outputs": [],
   "source": [
    "create_tmp_002_Tmp_CardetIrr = \"\"\" CREATE TABLE IF NOT EXISTS \"\"\" + platinum_temp_dbX + \"\"\".Tmp_erc_prs_cba_hist_rut \n",
    "USING DELTA\n",
    "LOCATION '\"\"\" + db_location_platinum_tempX + \"\"\"Tmp_erc_prs_cba_hist_rut'\n",
    "AS (\n",
    "select \n",
    "distinct cast(trim(pch_cli_rut) as integer) as mit_rut\n",
    ",1 as Balances_Aud\n",
    "from \"\"\" + slv_RiesgoCred_RiesgoCredEmp_dbX + \"\"\".erc_prs_cba_hist\n",
    "where id_periodo = \"\"\" +anomes+ \"\"\"\n",
    ")\n",
    "\"\"\""
   ]
  },
  {
   "cell_type": "code",
   "execution_count": 0,
   "metadata": {
    "application/vnd.databricks.v1+cell": {
     "cellMetadata": {
      "byteLimit": 2048000,
      "rowLimit": 10000
     },
     "inputWidgets": {},
     "nuid": "08dd8392-954d-4328-b9a6-d9d093ec60d7",
     "showTitle": false,
     "tableResultSettingsMap": {},
     "title": ""
    }
   },
   "outputs": [
    {
     "output_type": "stream",
     "name": "stdout",
     "output_type": "stream",
     "text": [
      "sql_safe: query ->  CREATE TABLE IF NOT EXISTS dsr_plt_bcitemp_db.Tmp_erc_prs_cba_hist_rut \nUSING DELTA\nLOCATION 'abfss://platinum@bcirg2dlssbx.dfs.core.windows.net/plt_normativo_db/prv_hip/Tmp_erc_prs_cba_hist_rut'\nAS (\nselect \ndistinct cast(trim(pch_cli_rut) as integer) as mit_rut\n,1 as Balances_Aud\nfrom dsr_slv_RiesgoCred_RiesgoCredEmp_db.erc_prs_cba_hist\nwhere id_periodo = 202505\n)\n\n"
     ]
    },
    {
     "output_type": "execute_result",
     "data": {
      "text/plain": [
       "DataFrame[num_affected_rows: bigint, num_inserted_rows: bigint]"
      ]
     },
     "execution_count": 14,
     "metadata": {},
     "output_type": "execute_result"
    }
   ],
   "source": [
    "sql_safe(create_tmp_002_Tmp_CardetIrr)"
   ]
  },
  {
   "cell_type": "markdown",
   "metadata": {
    "application/vnd.databricks.v1+cell": {
     "cellMetadata": {
      "byteLimit": 2048000,
      "rowLimit": 10000
     },
     "inputWidgets": {},
     "nuid": "c77a311b-7dfa-46b6-9da7-e404d6da248c",
     "showTitle": false,
     "tableResultSettingsMap": {},
     "title": ""
    }
   },
   "source": [
    "#### Tabla Origen: prv_rut_estatal"
   ]
  },
  {
   "cell_type": "code",
   "execution_count": 0,
   "metadata": {
    "application/vnd.databricks.v1+cell": {
     "cellMetadata": {
      "byteLimit": 2048000,
      "rowLimit": 10000
     },
     "inputWidgets": {},
     "nuid": "a1d6c5f7-0ddd-469b-9c72-bfb642390608",
     "showTitle": false,
     "tableResultSettingsMap": {},
     "title": ""
    }
   },
   "outputs": [],
   "source": [
    "drop_tmp_004_prv_rut_estatal = \"\"\" DROP TABLE IF EXISTS \"\"\" + platinum_temp_dbX + \"\"\".Tmp_prv_rut_estatal \"\"\""
   ]
  },
  {
   "cell_type": "code",
   "execution_count": 0,
   "metadata": {
    "application/vnd.databricks.v1+cell": {
     "cellMetadata": {
      "byteLimit": 2048000,
      "rowLimit": 10000
     },
     "inputWidgets": {},
     "nuid": "0a3b995e-880b-46ac-b304-eb5b5ee2cd96",
     "showTitle": false,
     "tableResultSettingsMap": {},
     "title": ""
    }
   },
   "outputs": [
    {
     "output_type": "stream",
     "name": "stdout",
     "output_type": "stream",
     "text": [
      "sql_safe: query ->  DROP TABLE IF EXISTS dsr_plt_bcitemp_db.Tmp_prv_rut_estatal \n"
     ]
    },
    {
     "output_type": "execute_result",
     "data": {
      "text/plain": [
       "DataFrame[]"
      ]
     },
     "execution_count": 16,
     "metadata": {},
     "output_type": "execute_result"
    }
   ],
   "source": [
    "sql_safe(drop_tmp_004_prv_rut_estatal)"
   ]
  },
  {
   "cell_type": "code",
   "execution_count": 0,
   "metadata": {
    "application/vnd.databricks.v1+cell": {
     "cellMetadata": {
      "byteLimit": 2048000,
      "rowLimit": 10000
     },
     "inputWidgets": {},
     "nuid": "6860b0eb-184c-48b4-ac1c-2ef239652a53",
     "showTitle": false,
     "tableResultSettingsMap": {},
     "title": ""
    }
   },
   "outputs": [
    {
     "output_type": "execute_result",
     "data": {
      "text/plain": [
       "True"
      ]
     },
     "execution_count": 17,
     "metadata": {},
     "output_type": "execute_result"
    }
   ],
   "source": [
    "dbutils.fs.rm(db_location_platinum_tempX+\"Tmp_prv_rut_estatal\", True)"
   ]
  },
  {
   "cell_type": "code",
   "execution_count": 0,
   "metadata": {
    "application/vnd.databricks.v1+cell": {
     "cellMetadata": {
      "byteLimit": 2048000,
      "rowLimit": 10000
     },
     "inputWidgets": {},
     "nuid": "31e4c759-9e83-45e7-9c4d-65e586f22ff7",
     "showTitle": false,
     "tableResultSettingsMap": {},
     "title": ""
    }
   },
   "outputs": [],
   "source": [
    "create_tmp_004_Tmp_prv_rut_estatal = \"\"\" CREATE TABLE IF NOT EXISTS \"\"\" + platinum_temp_dbX + \"\"\".Tmp_prv_rut_estatal \n",
    "USING DELTA\n",
    "LOCATION '\"\"\" + db_location_platinum_tempX + \"\"\"Tmp_prv_rut_estatal'\n",
    "AS (\n",
    "select \n",
    "distinct cast(trim(res_rut_cliente) as integer) as mit_rut\n",
    ",1 AS Rut_Estatal\n",
    "from \"\"\"+platinum_temp_dbX+\"\"\".prv_rut_estatal\n",
    "WHERE trim(res_ind_vigencia)=\"S\"\n",
    ")\n",
    "\"\"\""
   ]
  },
  {
   "cell_type": "code",
   "execution_count": 0,
   "metadata": {
    "application/vnd.databricks.v1+cell": {
     "cellMetadata": {
      "byteLimit": 2048000,
      "rowLimit": 10000
     },
     "inputWidgets": {},
     "nuid": "9367b55f-17d7-4b1f-a127-bc1524549a08",
     "showTitle": false,
     "tableResultSettingsMap": {},
     "title": ""
    }
   },
   "outputs": [
    {
     "output_type": "stream",
     "name": "stdout",
     "output_type": "stream",
     "text": [
      "sql_safe: query ->  CREATE TABLE IF NOT EXISTS dsr_plt_bcitemp_db.Tmp_prv_rut_estatal \nUSING DELTA\nLOCATION 'abfss://platinum@bcirg2dlssbx.dfs.core.windows.net/plt_normativo_db/prv_hip/Tmp_prv_rut_estatal'\nAS (\nselect \ndistinct cast(trim(res_rut_cliente) as integer) as mit_rut\n,1 AS Rut_Estatal\nfrom dsr_plt_normativo_db.prv_rut_estatal\nWHERE trim(res_ind_vigencia)=\"S\"\n)\n\n"
     ]
    },
    {
     "output_type": "execute_result",
     "data": {
      "text/plain": [
       "DataFrame[num_affected_rows: bigint, num_inserted_rows: bigint]"
      ]
     },
     "execution_count": 19,
     "metadata": {},
     "output_type": "execute_result"
    }
   ],
   "source": [
    "sql_safe(create_tmp_004_Tmp_prv_rut_estatal)"
   ]
  },
  {
   "cell_type": "markdown",
   "metadata": {
    "application/vnd.databricks.v1+cell": {
     "cellMetadata": {
      "byteLimit": 2048000,
      "rowLimit": 10000
     },
     "inputWidgets": {},
     "nuid": "84fa2004-1038-4d6d-93de-9865d7c04a83",
     "showTitle": false,
     "tableResultSettingsMap": {},
     "title": ""
    }
   },
   "source": [
    "#### Fundir tablas: Tmp_erc_prs_cba_hist_rut y Tmp_CardetIrr (002)"
   ]
  },
  {
   "cell_type": "code",
   "execution_count": 0,
   "metadata": {
    "application/vnd.databricks.v1+cell": {
     "cellMetadata": {
      "byteLimit": 2048000,
      "rowLimit": 10000
     },
     "inputWidgets": {},
     "nuid": "0a2ba898-45ca-45c6-8f71-444ac2b575c7",
     "showTitle": false,
     "tableResultSettingsMap": {},
     "title": ""
    }
   },
   "outputs": [],
   "source": [
    "drop_tmp_005_Fundir1_004 = \"\"\" DROP TABLE IF EXISTS \"\"\" + platinum_temp_dbX + \"\"\".Tmp_Fundir1_004 \"\"\""
   ]
  },
  {
   "cell_type": "code",
   "execution_count": 0,
   "metadata": {
    "application/vnd.databricks.v1+cell": {
     "cellMetadata": {
      "byteLimit": 2048000,
      "rowLimit": 10000
     },
     "inputWidgets": {},
     "nuid": "f314178c-aaa4-421a-9aee-ade62f23a29c",
     "showTitle": false,
     "tableResultSettingsMap": {},
     "title": ""
    }
   },
   "outputs": [
    {
     "output_type": "stream",
     "name": "stdout",
     "output_type": "stream",
     "text": [
      "sql_safe: query ->  DROP TABLE IF EXISTS dsr_plt_bcitemp_db.Tmp_Fundir1_004 \n"
     ]
    },
    {
     "output_type": "execute_result",
     "data": {
      "text/plain": [
       "DataFrame[]"
      ]
     },
     "execution_count": 21,
     "metadata": {},
     "output_type": "execute_result"
    }
   ],
   "source": [
    "sql_safe(drop_tmp_005_Fundir1_004)"
   ]
  },
  {
   "cell_type": "code",
   "execution_count": 0,
   "metadata": {
    "application/vnd.databricks.v1+cell": {
     "cellMetadata": {
      "byteLimit": 2048000,
      "rowLimit": 10000
     },
     "inputWidgets": {},
     "nuid": "15607787-5f83-4de1-b9b3-d5a4e47c69ef",
     "showTitle": false,
     "tableResultSettingsMap": {},
     "title": ""
    }
   },
   "outputs": [
    {
     "output_type": "execute_result",
     "data": {
      "text/plain": [
       "True"
      ]
     },
     "execution_count": 22,
     "metadata": {},
     "output_type": "execute_result"
    }
   ],
   "source": [
    "dbutils.fs.rm(db_location_platinum_tempX+\"Tmp_Fundir1_004\", True)"
   ]
  },
  {
   "cell_type": "code",
   "execution_count": 0,
   "metadata": {
    "application/vnd.databricks.v1+cell": {
     "cellMetadata": {
      "byteLimit": 2048000,
      "rowLimit": 10000
     },
     "inputWidgets": {},
     "nuid": "68c45438-b69d-4821-b10f-e921b44a8578",
     "showTitle": false,
     "tableResultSettingsMap": {},
     "title": ""
    }
   },
   "outputs": [],
   "source": [
    "create_tmp_005_Fundir1_004 = \"\"\" CREATE TABLE IF NOT EXISTS \"\"\" + platinum_temp_dbX + \"\"\".Tmp_Fundir1_004 \n",
    "USING DELTA\n",
    "LOCATION '\"\"\" + db_location_platinum_tempX + \"\"\"Tmp_Fundir1_004'\n",
    "AS (\n",
    "select cast(trim(a.ddr_idc) as integer) AS mit_rut\n",
    ",a.dpf_fec_proceso\n",
    ",a.cli_idc\n",
    ",a.cli_vrt\n",
    ",a.cli_rzn_soc\n",
    ",a.ddr_idc\n",
    ",a.ddr_vrt\n",
    ",a.ddr_rzn_soc\n",
    ",a.pdt_des_cra\n",
    ",a.doc_num_documento\n",
    ",a.doc_num_cuota\n",
    ",a.Deuda_TotalIFRS\n",
    ",a.dod_cod_cobranza\n",
    ",a.cod_aec\n",
    ",a.dpf_ind_responsabilidad\n",
    ",a.dpf_fec_vencimiento\n",
    ",a.Clasificacion\n",
    ",a.dod_ind_cartera\n",
    ",a.Clasificacion_Cliente\n",
    ",a.Clasificacion_Deudor\n",
    ",a.Dias_Mora\n",
    ",a.doc_num_operacion\n",
    ",a.doc_id_documento\n",
    ",a.doc_ind_fin_mes\n",
    ",a.dpf_pct_pi\n",
    ",a.dpf_pct_pdi\n",
    ",a.dpf_mto_pe\n",
    ",a.cli_rut\n",
    ",a.Responsabilidad_CedenteFactoring\n",
    ",a.Tipo_Prestamo\n",
    ",a.Periodo_Id\n",
    ",a.Ind_Castigo\n",
    ",a.Colo_EsCardetIrr\n",
    ",a.Cod_niid\n",
    ",a.Calif_Deudor_Permitida\n",
    ",b.Balances_Aud\n",
    "FROM \"\"\"+platinum_temp_dbX+\"\"\".Tmp_CardetIrr a\n",
    "left join \"\"\"+platinum_temp_dbX+\"\"\".Tmp_erc_prs_cba_hist_rut b\n",
    "on cast(trim(a.ddr_idc) as integer) = b.mit_rut\n",
    "WHERE Calif_Deudor_Permitida=1 AND trim(pdt_des_cra) <> \"RE\"\n",
    ")\n",
    "\"\"\""
   ]
  },
  {
   "cell_type": "code",
   "execution_count": 0,
   "metadata": {
    "application/vnd.databricks.v1+cell": {
     "cellMetadata": {
      "byteLimit": 2048000,
      "rowLimit": 10000
     },
     "inputWidgets": {},
     "nuid": "2d09d93d-61da-4915-aa32-d1eadd1311f1",
     "showTitle": false,
     "tableResultSettingsMap": {},
     "title": ""
    }
   },
   "outputs": [
    {
     "output_type": "stream",
     "name": "stdout",
     "output_type": "stream",
     "text": [
      "sql_safe: query ->  CREATE TABLE IF NOT EXISTS dsr_plt_bcitemp_db.Tmp_Fundir1_004 \nUSING DELTA\nLOCATION 'abfss://platinum@bcirg2dlssbx.dfs.core.windows.net/plt_normativo_db/prv_hip/Tmp_Fundir1_004'\nAS (\nselect cast(trim(a.ddr_idc) as integer) AS mit_rut\n,a.dpf_fec_proceso\n,a.cli_idc\n,a.cli_vrt\n,a.cli_rzn_soc\n,a.ddr_idc\n,a.ddr_vrt\n,a.ddr_rzn_soc\n,a.pdt_des_cra\n,a.doc_num_documento\n,a.doc_num_cuota\n,a.Deuda_TotalIFRS\n,a.dod_cod_cobranza\n,a.cod_aec\n,a.dpf_ind_responsabilidad\n,a.dpf_fec_vencimiento\n,a.Clasificacion\n,a.dod_ind_cartera\n,a.Clasificacion_Cliente\n,a.Clasificacion_Deudor\n,a.Dias_Mora\n,a.doc_num_operacion\n,a.doc_id_documento\n,a.doc_ind_fin_mes\n,a.dpf_pct_pi\n,a.dpf_pct_pdi\n,a.dpf_mto_pe\n,a.cli_rut\n,a.Responsabilidad_CedenteFactoring\n,a.Tipo_Prestamo\n,a.Periodo_Id\n,a.Ind_Castigo\n,a.Colo_EsCardetIrr\n,a.Cod_niid\n,a.Calif_Deudor_Permitida\n,b.Balances_Aud\nFROM dsr_plt_bcitemp_db.Tmp_CardetIrr a\nleft join dsr_plt_bcitemp_db.Tmp_erc_prs_cba_hist_rut b\non cast(trim(a.ddr_idc) as integer) = b.mit_rut\nWHERE Calif_Deudor_Permitida=1 AND trim(pdt_des_cra) <> \"RE\"\n)\n\n"
     ]
    },
    {
     "output_type": "execute_result",
     "data": {
      "text/plain": [
       "DataFrame[num_affected_rows: bigint, num_inserted_rows: bigint]"
      ]
     },
     "execution_count": 24,
     "metadata": {},
     "output_type": "execute_result"
    }
   ],
   "source": [
    "sql_safe(create_tmp_005_Fundir1_004)"
   ]
  },
  {
   "cell_type": "markdown",
   "metadata": {
    "application/vnd.databricks.v1+cell": {
     "cellMetadata": {
      "byteLimit": 2048000,
      "rowLimit": 10000
     },
     "inputWidgets": {},
     "nuid": "63a1dbc2-abd1-4035-a622-2f67292f0a5a",
     "showTitle": false,
     "tableResultSettingsMap": {},
     "title": ""
    }
   },
   "source": [
    "#### Fundir Tmp_Fundir2_004"
   ]
  },
  {
   "cell_type": "code",
   "execution_count": 0,
   "metadata": {
    "application/vnd.databricks.v1+cell": {
     "cellMetadata": {
      "byteLimit": 2048000,
      "rowLimit": 10000
     },
     "inputWidgets": {},
     "nuid": "8950c23f-457c-4c87-9a75-e8b0f65ac8c6",
     "showTitle": false,
     "tableResultSettingsMap": {},
     "title": ""
    }
   },
   "outputs": [],
   "source": [
    "drop_tmp_006_Fundir2_004 = \"\"\" DROP TABLE IF EXISTS \"\"\" + platinum_temp_dbX + \"\"\".Tmp_Fundir2_004 \"\"\""
   ]
  },
  {
   "cell_type": "code",
   "execution_count": 0,
   "metadata": {
    "application/vnd.databricks.v1+cell": {
     "cellMetadata": {
      "byteLimit": 2048000,
      "rowLimit": 10000
     },
     "inputWidgets": {},
     "nuid": "084f2414-7598-4ac6-bd10-6f45dbba9ebc",
     "showTitle": false,
     "tableResultSettingsMap": {},
     "title": ""
    }
   },
   "outputs": [
    {
     "output_type": "stream",
     "name": "stdout",
     "output_type": "stream",
     "text": [
      "sql_safe: query ->  DROP TABLE IF EXISTS dsr_plt_bcitemp_db.Tmp_Fundir2_004 \n"
     ]
    },
    {
     "output_type": "execute_result",
     "data": {
      "text/plain": [
       "DataFrame[]"
      ]
     },
     "execution_count": 26,
     "metadata": {},
     "output_type": "execute_result"
    }
   ],
   "source": [
    "sql_safe(drop_tmp_006_Fundir2_004)"
   ]
  },
  {
   "cell_type": "code",
   "execution_count": 0,
   "metadata": {
    "application/vnd.databricks.v1+cell": {
     "cellMetadata": {
      "byteLimit": 2048000,
      "rowLimit": 10000
     },
     "inputWidgets": {},
     "nuid": "ad2c98e3-6a92-4ac6-a6f4-314e8c6b4129",
     "showTitle": false,
     "tableResultSettingsMap": {},
     "title": ""
    }
   },
   "outputs": [
    {
     "output_type": "execute_result",
     "data": {
      "text/plain": [
       "True"
      ]
     },
     "execution_count": 27,
     "metadata": {},
     "output_type": "execute_result"
    }
   ],
   "source": [
    "dbutils.fs.rm(db_location_platinum_tempX+\"Tmp_Fundir2_004\", True)"
   ]
  },
  {
   "cell_type": "code",
   "execution_count": 0,
   "metadata": {
    "application/vnd.databricks.v1+cell": {
     "cellMetadata": {
      "byteLimit": 2048000,
      "rowLimit": 10000
     },
     "inputWidgets": {},
     "nuid": "14037870-887f-40b6-a8a7-7dcf045ee7df",
     "showTitle": false,
     "tableResultSettingsMap": {},
     "title": ""
    }
   },
   "outputs": [],
   "source": [
    "create_tmp_005_Fundir2_004 = \"\"\" CREATE TABLE IF NOT EXISTS \"\"\" + platinum_temp_dbX + \"\"\".Tmp_Fundir2_004 \n",
    "USING DELTA\n",
    "LOCATION '\"\"\" + db_location_platinum_tempX + \"\"\"Tmp_Fundir2_004'\n",
    "AS (\n",
    "select\n",
    "a.Cod_niid\n",
    ",CASE WHEN trim(a.Clasificacion_Deudor)=\"A1\" then 0.0004\n",
    "WHEN trim(a.Clasificacion_Deudor)=\"A2\" then 0.001\n",
    "WHEN trim(a.Clasificacion_Deudor)=\"A3\" then 0.0025\n",
    "ELSE 0 END AS PI_A\n",
    ",CASE WHEN trim(a.Clasificacion_Deudor)=\"A1\" then 0.9\n",
    "WHEN trim(a.Clasificacion_Deudor)=\"A2\" then 0.825\n",
    "WHEN trim(a.Clasificacion_Deudor)=\"A3\" then 0.875\n",
    "ELSE 0 END AS PDI_A\n",
    ",1 AS Mitigador\n",
    "from \"\"\"+platinum_temp_dbX+\"\"\".Tmp_Fundir1_004 a\n",
    "left join \"\"\"+platinum_temp_dbX+\"\"\".Tmp_prv_rut_estatal b\n",
    "on a.mit_rut = b.mit_rut\n",
    "WHERE IFNULL(a.Balances_Aud,0) = 1 or IFNULL(b.Rut_Estatal,0) = 1\n",
    ")\n",
    "\"\"\""
   ]
  },
  {
   "cell_type": "code",
   "execution_count": 0,
   "metadata": {
    "application/vnd.databricks.v1+cell": {
     "cellMetadata": {
      "byteLimit": 2048000,
      "rowLimit": 10000
     },
     "inputWidgets": {},
     "nuid": "5ea6c6b7-bd7d-46ff-9cbb-2e9ba4cda029",
     "showTitle": false,
     "tableResultSettingsMap": {},
     "title": ""
    }
   },
   "outputs": [
    {
     "output_type": "stream",
     "name": "stdout",
     "output_type": "stream",
     "text": [
      "sql_safe: query ->  CREATE TABLE IF NOT EXISTS dsr_plt_bcitemp_db.Tmp_Fundir2_004 \nUSING DELTA\nLOCATION 'abfss://platinum@bcirg2dlssbx.dfs.core.windows.net/plt_normativo_db/prv_hip/Tmp_Fundir2_004'\nAS (\nselect\na.Cod_niid\n,CASE WHEN trim(a.Clasificacion_Deudor)=\"A1\" then 0.0004\nWHEN trim(a.Clasificacion_Deudor)=\"A2\" then 0.001\nWHEN trim(a.Clasificacion_Deudor)=\"A3\" then 0.0025\nELSE 0 END AS PI_A\n,CASE WHEN trim(a.Clasificacion_Deudor)=\"A1\" then 0.9\nWHEN trim(a.Clasificacion_Deudor)=\"A2\" then 0.825\nWHEN trim(a.Clasificacion_Deudor)=\"A3\" then 0.875\nELSE 0 END AS PDI_A\n,1 AS Mitigador\nfrom dsr_plt_bcitemp_db.Tmp_Fundir1_004 a\nleft join dsr_plt_bcitemp_db.Tmp_prv_rut_estatal b\non a.mit_rut = b.mit_rut\nWHERE IFNULL(a.Balances_Aud,0) = 1 or IFNULL(b.Rut_Estatal,0) = 1\n)\n\n"
     ]
    },
    {
     "output_type": "execute_result",
     "data": {
      "text/plain": [
       "DataFrame[num_affected_rows: bigint, num_inserted_rows: bigint]"
      ]
     },
     "execution_count": 29,
     "metadata": {},
     "output_type": "execute_result"
    }
   ],
   "source": [
    "sql_safe(create_tmp_005_Fundir2_004)"
   ]
  },
  {
   "cell_type": "markdown",
   "metadata": {
    "application/vnd.databricks.v1+cell": {
     "cellMetadata": {
      "byteLimit": 2048000,
      "rowLimit": 10000
     },
     "inputWidgets": {},
     "nuid": "59adae88-bc37-4834-bf01-4e8e1447123e",
     "showTitle": false,
     "tableResultSettingsMap": {},
     "title": ""
    }
   },
   "source": [
    "#### Fundir PROV_d00"
   ]
  },
  {
   "cell_type": "code",
   "execution_count": 0,
   "metadata": {
    "application/vnd.databricks.v1+cell": {
     "cellMetadata": {
      "byteLimit": 2048000,
      "rowLimit": 10000
     },
     "inputWidgets": {},
     "nuid": "bf084f9b-6150-4484-ac24-3cf335a822ae",
     "showTitle": false,
     "tableResultSettingsMap": {},
     "title": ""
    }
   },
   "outputs": [],
   "source": [
    "drop_tmp_007_Fundir_Prov_d00 = \"\"\" DROP TABLE IF EXISTS \"\"\" + platinum_temp_dbX + \"\"\".Tmp_Fundir_Prov_d00 \"\"\""
   ]
  },
  {
   "cell_type": "code",
   "execution_count": 0,
   "metadata": {
    "application/vnd.databricks.v1+cell": {
     "cellMetadata": {
      "byteLimit": 2048000,
      "rowLimit": 10000
     },
     "inputWidgets": {},
     "nuid": "81c9e5c6-cb9f-45bf-a8da-7090f78874e8",
     "showTitle": false,
     "tableResultSettingsMap": {},
     "title": ""
    }
   },
   "outputs": [
    {
     "output_type": "stream",
     "name": "stdout",
     "output_type": "stream",
     "text": [
      "sql_safe: query ->  DROP TABLE IF EXISTS dsr_plt_bcitemp_db.Tmp_Fundir_Prov_d00 \n"
     ]
    },
    {
     "output_type": "execute_result",
     "data": {
      "text/plain": [
       "DataFrame[]"
      ]
     },
     "execution_count": 31,
     "metadata": {},
     "output_type": "execute_result"
    }
   ],
   "source": [
    "sql_safe(drop_tmp_007_Fundir_Prov_d00)"
   ]
  },
  {
   "cell_type": "code",
   "execution_count": 0,
   "metadata": {
    "application/vnd.databricks.v1+cell": {
     "cellMetadata": {
      "byteLimit": 2048000,
      "rowLimit": 10000
     },
     "inputWidgets": {},
     "nuid": "93d8f3f0-86e2-4fd3-a849-6e59d0a6fe69",
     "showTitle": false,
     "tableResultSettingsMap": {},
     "title": ""
    }
   },
   "outputs": [
    {
     "output_type": "execute_result",
     "data": {
      "text/plain": [
       "True"
      ]
     },
     "execution_count": 32,
     "metadata": {},
     "output_type": "execute_result"
    }
   ],
   "source": [
    "dbutils.fs.rm(db_location_platinum_tempX+\"Tmp_Fundir_Prov_d00\", True)"
   ]
  },
  {
   "cell_type": "code",
   "execution_count": 0,
   "metadata": {
    "application/vnd.databricks.v1+cell": {
     "cellMetadata": {
      "byteLimit": 2048000,
      "rowLimit": 10000
     },
     "inputWidgets": {},
     "nuid": "d407428e-7edd-4819-bb88-1367b04ef1a8",
     "showTitle": false,
     "tableResultSettingsMap": {},
     "title": ""
    }
   },
   "outputs": [],
   "source": [
    "create_tmp_007_Fundir_Prov_d00 = \"\"\" CREATE TABLE IF NOT EXISTS \"\"\" + platinum_temp_dbX + \"\"\".Tmp_Fundir_Prov_d00 \n",
    "USING DELTA\n",
    "PARTITIONED BY (dpf_fec_proceso)\n",
    "LOCATION '\"\"\" + db_location_platinum_tempX + \"\"\"Tmp_Fundir_Prov_d00'\n",
    "AS (\n",
    "select\n",
    "IFNULL(a.Cod_niid,b.Cod_niid) AS Cod_niid\n",
    ",a.dpf_fec_proceso\n",
    ",a.cli_idc\n",
    ",a.cli_vrt\n",
    ",a.cli_rzn_soc\n",
    ",a.ddr_idc\n",
    ",a.ddr_vrt\n",
    ",a.ddr_rzn_soc\n",
    ",a.pdt_des_cra\n",
    ",a.doc_num_documento\n",
    ",a.doc_num_cuota\n",
    ",a.Deuda_TotalIFRS\n",
    ",a.dod_cod_cobranza\n",
    ",a.cod_aec\n",
    ",a.dpf_ind_responsabilidad\n",
    ",a.dpf_fec_vencimiento\n",
    ",a.Clasificacion\n",
    ",a.dod_ind_cartera\n",
    ",a.Clasificacion_Cliente\n",
    ",a.Clasificacion_Deudor\n",
    ",a.Dias_Mora\n",
    ",a.doc_num_operacion\n",
    ",a.doc_id_documento\n",
    ",a.doc_ind_fin_mes\n",
    ",a.dpf_pct_pi\n",
    ",a.dpf_pct_pdi\n",
    ",a.dpf_mto_pe\n",
    ",a.cli_rut\n",
    ",a.Responsabilidad_CedenteFactoring\n",
    ",a.Tipo_Prestamo\n",
    ",a.Periodo_Id\n",
    ",a.Ind_Castigo\n",
    ",a.Colo_EsCardetIrr\n",
    ",a.Calif_Deudor_Permitida\n",
    ",IFNULL(a.PI,0) AS PI\n",
    ",IFNULL(a.PDI,0) AS PDI\n",
    ",IFNULL(b.PI_A,0) AS PI_A\n",
    ",IFNULL(b.PDI_A,0) AS PDI_A\n",
    ",IFNULL(b.Mitigador,0) AS Mitigador\n",
    ", CASE WHEN Mitigador=1 then IFNULL(b.PI_A,0)*IFNULL(b.PDI_A,0)*Deuda_TotalIFRS\n",
    "ELSE IFNULL(a.PI,0)*IFNULL(a.PDI,0)*Deuda_TotalIFRS END AS PROV_d00\n",
    "from \"\"\"+platinum_temp_dbX+\"\"\".Tmp_Pi_Pdi a\n",
    "full join \"\"\"+platinum_temp_dbX+\"\"\".Tmp_Fundir2_004 b\n",
    "on trim(a.Cod_niid)=(b.Cod_niid)\n",
    ")\n",
    "\"\"\""
   ]
  },
  {
   "cell_type": "code",
   "execution_count": 0,
   "metadata": {
    "application/vnd.databricks.v1+cell": {
     "cellMetadata": {
      "byteLimit": 2048000,
      "rowLimit": 10000
     },
     "inputWidgets": {},
     "nuid": "eb75087f-5d79-4647-a57b-1b94cf56dcf5",
     "showTitle": false,
     "tableResultSettingsMap": {},
     "title": ""
    }
   },
   "outputs": [
    {
     "output_type": "stream",
     "name": "stdout",
     "output_type": "stream",
     "text": [
      "sql_safe: query ->  CREATE TABLE IF NOT EXISTS dsr_plt_bcitemp_db.Tmp_Fundir_Prov_d00 \nUSING DELTA\nPARTITIONED BY (dpf_fec_proceso)\nLOCATION 'abfss://platinum@bcirg2dlssbx.dfs.core.windows.net/plt_normativo_db/prv_hip/Tmp_Fundir_Prov_d00'\nAS (\nselect\nIFNULL(a.Cod_niid,b.Cod_niid) AS Cod_niid\n,a.dpf_fec_proceso\n,a.cli_idc\n,a.cli_vrt\n,a.cli_rzn_soc\n,a.ddr_idc\n,a.ddr_vrt\n,a.ddr_rzn_soc\n,a.pdt_des_cra\n,a.doc_num_documento\n,a.doc_num_cuota\n,a.Deuda_TotalIFRS\n,a.dod_cod_cobranza\n,a.cod_aec\n,a.dpf_ind_responsabilidad\n,a.dpf_fec_vencimiento\n,a.Clasificacion\n,a.dod_ind_cartera\n,a.Clasificacion_Cliente\n,a.Clasificacion_Deudor\n,a.Dias_Mora\n,a.doc_num_operacion\n,a.doc_id_documento\n,a.doc_ind_fin_mes\n,a.dpf_pct_pi\n,a.dpf_pct_pdi\n,a.dpf_mto_pe\n,a.cli_rut\n,a.Responsabilidad_CedenteFactoring\n,a.Tipo_Prestamo\n,a.Periodo_Id\n,a.Ind_Castigo\n,a.Colo_EsCardetIrr\n,a.Calif_Deudor_Permitida\n,IFNULL(a.PI,0) AS PI\n,IFNULL(a.PDI,0) AS PDI\n,IFNULL(b.PI_A,0) AS PI_A\n,IFNULL(b.PDI_A,0) AS PDI_A\n,IFNULL(b.Mitigador,0) AS Mitigador\n, CASE WHEN Mitigador=1 then IFNULL(b.PI_A,0)*IFNULL(b.PDI_A,0)*Deuda_TotalIFRS\nELSE IFNULL(a.PI,0)*IFNULL(a.PDI,0)*Deuda_TotalIFRS END AS PROV_d00\nfrom dsr_plt_bcitemp_db.Tmp_Pi_Pdi a\nfull join dsr_plt_bcitemp_db.Tmp_Fundir2_004 b\non trim(a.Cod_niid)=(b.Cod_niid)\n)\n\n"
     ]
    },
    {
     "output_type": "execute_result",
     "data": {
      "text/plain": [
       "DataFrame[num_affected_rows: bigint, num_inserted_rows: bigint]"
      ]
     },
     "execution_count": 34,
     "metadata": {},
     "output_type": "execute_result"
    }
   ],
   "source": [
    "sql_safe(create_tmp_007_Fundir_Prov_d00)"
   ]
  },
  {
   "cell_type": "markdown",
   "metadata": {
    "application/vnd.databricks.v1+cell": {
     "cellMetadata": {
      "byteLimit": 2048000,
      "rowLimit": 10000
     },
     "inputWidgets": {},
     "nuid": "9287dc73-8411-4c16-88a7-5ec98d1f2bc8",
     "showTitle": false,
     "tableResultSettingsMap": {},
     "title": ""
    }
   },
   "source": [
    "## Mensaje Final"
   ]
  },
  {
   "cell_type": "code",
   "execution_count": 0,
   "metadata": {
    "application/vnd.databricks.v1+cell": {
     "cellMetadata": {
      "byteLimit": 2048000,
      "rowLimit": 10000
     },
     "inputWidgets": {},
     "nuid": "e3b9a0e1-747f-4b2d-95f6-5cce3c957c94",
     "showTitle": false,
     "tableResultSettingsMap": {},
     "title": ""
    }
   },
   "outputs": [],
   "source": [
    "dbutils.notebook.exit(\"{\\\"coderror\\\":\\\"0\\\", \\\"msgerror\\\":\\\"Notebook termina ejecucion satisfactoriamente\\\"}\")"
   ]
  }
 ],
 "metadata": {
  "application/vnd.databricks.v1+notebook": {
   "computePreferences": null,
   "dashboards": [],
   "environmentMetadata": {
    "base_environment": "",
    "environment_version": "2"
   },
   "inputWidgetPreferences": null,
   "language": "python",
   "notebookMetadata": {
    "mostRecentlyExecutedCommandWithImplicitDF": {
     "commandId": 7300217550432675,
     "dataframes": [
      "_sqldf"
     ]
    },
    "pythonIndentUnit": 2
   },
   "notebookName": "BCI_004_Matriz_Comercial_B1_Factoring",
   "widgets": {
    "db_location_platinum_tempW": {
     "currentValue": "abfss://platinum@bcirg2dlssbx.dfs.core.windows.net/plt_normativo_db/prv_hip/",
     "nuid": "dd94324d-ac52-421e-b17e-dd5ac435deed",
     "typedWidgetInfo": {
      "autoCreated": false,
      "defaultValue": "",
      "label": "03 Location DB Platinum Temp:",
      "name": "db_location_platinum_tempW",
      "options": {
       "widgetDisplayType": "Text",
       "validationRegex": null
      },
      "parameterDataType": "String"
     },
     "widgetInfo": {
      "widgetType": "text",
      "defaultValue": "",
      "label": "03 Location DB Platinum Temp:",
      "name": "db_location_platinum_tempW",
      "options": {
       "widgetType": "text",
       "autoCreated": null,
       "validationRegex": null
      }
     }
    },
    "fechaProcesoW": {
     "currentValue": "20250530",
     "nuid": "70f6bbff-b889-419e-8415-87567155b3bc",
     "typedWidgetInfo": {
      "autoCreated": false,
      "defaultValue": "",
      "label": "01 Fecha Proceso :",
      "name": "fechaProcesoW",
      "options": {
       "widgetDisplayType": "Text",
       "validationRegex": null
      },
      "parameterDataType": "String"
     },
     "widgetInfo": {
      "widgetType": "text",
      "defaultValue": "",
      "label": "01 Fecha Proceso :",
      "name": "fechaProcesoW",
      "options": {
       "widgetType": "text",
       "autoCreated": null,
       "validationRegex": null
      }
     }
    },
    "platinum_temp_dbW": {
     "currentValue": "dsr_plt_bcitemp_db",
     "nuid": "478c50c8-b327-4d1e-91c0-53ac2411b55e",
     "typedWidgetInfo": {
      "autoCreated": false,
      "defaultValue": "",
      "label": "02 platinum temp db:",
      "name": "platinum_temp_dbW",
      "options": {
       "widgetDisplayType": "Text",
       "validationRegex": null
      },
      "parameterDataType": "String"
     },
     "widgetInfo": {
      "widgetType": "text",
      "defaultValue": "",
      "label": "02 platinum temp db:",
      "name": "platinum_temp_dbW",
      "options": {
       "widgetType": "text",
       "autoCreated": null,
       "validationRegex": null
      }
     }
    },
    "slv_RiesgoCred_RiesgoCredEmp_dbW": {
     "currentValue": "dsr_slv_RiesgoCred_RiesgoCredEmp_db",
     "nuid": "6db8b6cf-02cb-4926-ac30-2f0b526968c6",
     "typedWidgetInfo": {
      "autoCreated": false,
      "defaultValue": "",
      "label": "04 RiesgoCred_RiesgoCredEmpdb:",
      "name": "slv_RiesgoCred_RiesgoCredEmp_dbW",
      "options": {
       "widgetDisplayType": "Text",
       "validationRegex": null
      },
      "parameterDataType": "String"
     },
     "widgetInfo": {
      "widgetType": "text",
      "defaultValue": "",
      "label": "04 RiesgoCred_RiesgoCredEmpdb:",
      "name": "slv_RiesgoCred_RiesgoCredEmp_dbW",
      "options": {
       "widgetType": "text",
       "autoCreated": null,
       "validationRegex": null
      }
     }
    }
   }
  },
  "language_info": {
   "name": "python"
  }
 },
 "nbformat": 4,
 "nbformat_minor": 0
}