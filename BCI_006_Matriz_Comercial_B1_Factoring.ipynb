{
 "cells": [
  {
   "cell_type": "markdown",
   "metadata": {
    "application/vnd.databricks.v1+cell": {
     "cellMetadata": {
      "byteLimit": 2048000,
      "rowLimit": 10000
     },
     "inputWidgets": {},
     "nuid": "f4352a4e-f4c7-4310-a21b-ae671f4bd5db",
     "showTitle": false,
     "tableResultSettingsMap": {},
     "title": ""
    }
   },
   "source": [
    "# BCI_006_Matriz_Comercial_B1_Factoring"
   ]
  },
  {
   "cell_type": "markdown",
   "metadata": {
    "application/vnd.databricks.v1+cell": {
     "cellMetadata": {
      "byteLimit": 2048000,
      "rowLimit": 10000
     },
     "inputWidgets": {},
     "nuid": "1fd3a4aa-a9e2-4bbe-9168-929532d27439",
     "showTitle": false,
     "tableResultSettingsMap": {},
     "title": ""
    }
   },
   "source": [
    "## Información del Notebook"
   ]
  },
  {
   "cell_type": "markdown",
   "metadata": {
    "application/vnd.databricks.v1+cell": {
     "cellMetadata": {
      "byteLimit": 2048000,
      "rowLimit": 10000
     },
     "inputWidgets": {},
     "nuid": "78fb6037-6b71-49c3-b83d-1bc8e03813ca",
     "showTitle": false,
     "tableResultSettingsMap": {},
     "title": ""
    }
   },
   "source": [
    "### Encabezado\n",
    "**************************************************************************\n",
    "* Nombre: \n",
    "* Ruta: \n",
    "* Autor: Esteban Gándara\n",
    "* Ing. Rafael Montecinos - rafael.montecinost@bci.cl\n",
    "* Fecha: 19/05/2025\n",
    "* Descripción: \n",
    "* Documentación: \n",
    "***************************************************************************"
   ]
  },
  {
   "cell_type": "markdown",
   "metadata": {
    "application/vnd.databricks.v1+cell": {
     "cellMetadata": {
      "byteLimit": 2048000,
      "rowLimit": 10000
     },
     "inputWidgets": {},
     "nuid": "4bc27ba2-ac12-4b3a-9afe-22fd3cdbbc67",
     "showTitle": false,
     "tableResultSettingsMap": {},
     "title": ""
    }
   },
   "source": [
    "### Mantenciones\n",
    "**************************************************************************\n",
    "#### Mantención Nro: \n",
    "* Autor: <Nombre Autor> (<Empresa del Autor (Bci/Otra)>) - Ing. SW BCI: <Nombre Ing. SW BCI>\n",
    "* Fecha: <dd/mm/yyyy> \n",
    "* Descripción: <Descripción de la mantención>      \n",
    "************************************************"
   ]
  },
  {
   "cell_type": "markdown",
   "metadata": {
    "application/vnd.databricks.v1+cell": {
     "cellMetadata": {
      "byteLimit": 2048000,
      "rowLimit": 10000
     },
     "inputWidgets": {},
     "nuid": "caca1b06-42cb-404a-a54c-130594c7d0c3",
     "showTitle": false,
     "tableResultSettingsMap": {},
     "title": ""
    }
   },
   "source": [
    "### Tablas Entrada y Salida\n",
    "**************************************************************************\n",
    "#### Tablas Entrada: \n",
    "* \n",
    "* \n",
    "***************************************************************************\n",
    "#### Tablas Salida: \n",
    "* "
   ]
  },
  {
   "cell_type": "markdown",
   "metadata": {
    "application/vnd.databricks.v1+cell": {
     "cellMetadata": {
      "byteLimit": 2048000,
      "rowLimit": 10000
     },
     "inputWidgets": {},
     "nuid": "74185635-8a77-4fb4-bb8b-6eeaa351fe81",
     "showTitle": false,
     "tableResultSettingsMap": {},
     "title": ""
    }
   },
   "source": [
    "## Captura de Variables"
   ]
  },
  {
   "cell_type": "code",
   "execution_count": 0,
   "metadata": {
    "application/vnd.databricks.v1+cell": {
     "cellMetadata": {
      "byteLimit": 2048000,
      "rowLimit": 10000
     },
     "inputWidgets": {},
     "nuid": "3943d14d-8ac5-4b77-ae0d-b45bb734812f",
     "showTitle": false,
     "tableResultSettingsMap": {},
     "title": ""
    }
   },
   "outputs": [],
   "source": [
    "dbutils.widgets.removeAll()\n",
    "dbutils.widgets.text(\"fechaProcesoW\",\"\",\"01 Fecha Proceso :\")\n",
    "dbutils.widgets.text(\"platinum_temp_dbW\",\"\",\"02 platinum temp db:\")\n",
    "dbutils.widgets.text(\"platinum_dbW\",\"\",\"03 platinum db:\")"
   ]
  },
  {
   "cell_type": "markdown",
   "metadata": {
    "application/vnd.databricks.v1+cell": {
     "cellMetadata": {
      "byteLimit": 2048000,
      "rowLimit": 10000
     },
     "inputWidgets": {},
     "nuid": "78a06e10-f276-4d30-a5ce-16a92c3fa7a3",
     "showTitle": false,
     "tableResultSettingsMap": {},
     "title": ""
    }
   },
   "source": [
    "### Asignar Objeto a Lectura de Widgets y Variables"
   ]
  },
  {
   "cell_type": "code",
   "execution_count": 0,
   "metadata": {
    "application/vnd.databricks.v1+cell": {
     "cellMetadata": {
      "byteLimit": 2048000,
      "rowLimit": 10000
     },
     "inputWidgets": {},
     "nuid": "e04238c7-091d-4820-86e6-23c23f7937d0",
     "showTitle": false,
     "tableResultSettingsMap": {},
     "title": ""
    }
   },
   "outputs": [
    {
     "output_type": "stream",
     "name": "stdout",
     "output_type": "stream",
     "text": [
      "*****Parámetros*****\nfechaProcesoX: 20250530\nplatinum_temp_dbX: dsr_plt_bcitemp_db\nplatinum_dbX: dsr_plt_normativo_db\n"
     ]
    }
   ],
   "source": [
    "fechaProcesoX = dbutils.widgets.get(\"fechaProcesoW\")\n",
    "spark.conf.set(\"bci.fechaProcesoX\", fechaProcesoX)\n",
    "\n",
    "platinum_temp_dbX = dbutils.widgets.get(\"platinum_temp_dbW\")\n",
    "spark.conf.set(\"bci.platinum_temp_dbX\", platinum_temp_dbX)\n",
    "\n",
    "platinum_dbX = dbutils.widgets.get(\"platinum_dbW\")\n",
    "spark.conf.set(\"bci.platinum_dbX\", platinum_dbX)\n",
    "\n",
    "print(\"*****Parámetros*****\")\n",
    "print(\"fechaProcesoX: \" + fechaProcesoX)\n",
    "print(\"platinum_temp_dbX: \" + platinum_temp_dbX)\n",
    "print(\"platinum_dbX: \" + platinum_dbX)"
   ]
  },
  {
   "cell_type": "markdown",
   "metadata": {
    "application/vnd.databricks.v1+cell": {
     "cellMetadata": {
      "byteLimit": 2048000,
      "rowLimit": 10000
     },
     "inputWidgets": {},
     "nuid": "e8a3825a-48e8-4e01-8774-c12b73bb1cca",
     "showTitle": false,
     "tableResultSettingsMap": {},
     "title": ""
    }
   },
   "source": [
    "### Librerías"
   ]
  },
  {
   "cell_type": "code",
   "execution_count": 0,
   "metadata": {
    "application/vnd.databricks.v1+cell": {
     "cellMetadata": {
      "byteLimit": 2048000,
      "rowLimit": 10000
     },
     "inputWidgets": {},
     "nuid": "25e192fc-ceb5-4d4e-b5c6-6575fc3267c9",
     "showTitle": false,
     "tableResultSettingsMap": {},
     "title": ""
    }
   },
   "outputs": [],
   "source": [
    "import json\n",
    "from datetime import datetime, date, time, timedelta\n",
    "from dateutil.relativedelta import relativedelta\n",
    "\n",
    "# Obtener fecha actual\n",
    "current_date_str = datetime.now().strftime(\"%Y-%m-%d\")\n",
    "current_date = datetime.strptime(current_date_str, \"%Y-%m-%d\")\n",
    "formatted_date = str(current_date.strftime(\"%Y%m%d\"))"
   ]
  },
  {
   "cell_type": "markdown",
   "metadata": {
    "application/vnd.databricks.v1+cell": {
     "cellMetadata": {
      "byteLimit": 2048000,
      "rowLimit": 10000
     },
     "inputWidgets": {},
     "nuid": "03eb81fd-f82d-4906-8b44-eefb3087b33f",
     "showTitle": false,
     "tableResultSettingsMap": {},
     "title": ""
    }
   },
   "source": [
    "###Asigan Variables de fecha"
   ]
  },
  {
   "cell_type": "code",
   "execution_count": 0,
   "metadata": {
    "application/vnd.databricks.v1+cell": {
     "cellMetadata": {
      "byteLimit": 2048000,
      "rowLimit": 10000
     },
     "inputWidgets": {},
     "nuid": "adaf39c0-efcc-48f7-9683-b9cab818dadb",
     "showTitle": false,
     "tableResultSettingsMap": {},
     "title": ""
    }
   },
   "outputs": [
    {
     "output_type": "stream",
     "name": "stdout",
     "output_type": "stream",
     "text": [
      "fecha_Formato1: 2025\nfecha_Formato2: 05\nfecha_Formato3: 30\nfecha_Formato4: 2025-05-30\nfecha_Formato5: 30-05-2025\nfecha_Formato6: 202505\nfecha_Formato7: 20250530\nfecha_formato8: 2025/05/30\n"
     ]
    }
   ],
   "source": [
    "ano = str(fechaProcesoX)[:4]\n",
    "mes = str(fechaProcesoX)[4:][:2]\n",
    "dia = str(fechaProcesoX)[6:][:2]\n",
    "fechanormativo = str(ano+'-'+mes+'-'+dia)\n",
    "fechacinta = str(dia+'-'+mes+'-'+ano)\n",
    "anomes = str(ano+mes)\n",
    "anomesdia = str(ano+mes+dia)\n",
    "anomesdia2 = str(ano+'/'+mes+'/'+dia)\n",
    "\n",
    "\n",
    "print(\"fecha_Formato1: \" + ano)\n",
    "print(\"fecha_Formato2: \" + mes)\n",
    "print(\"fecha_Formato3: \" + dia)\n",
    "print(\"fecha_Formato4: \" + fechanormativo)\n",
    "print(\"fecha_Formato5: \" + fechacinta)\n",
    "print(\"fecha_Formato6: \" + anomes)\n",
    "print(\"fecha_Formato7: \" + anomesdia)\n",
    "print(\"fecha_formato8: \" + anomesdia2)"
   ]
  },
  {
   "cell_type": "markdown",
   "metadata": {
    "application/vnd.databricks.v1+cell": {
     "cellMetadata": {
      "byteLimit": 2048000,
      "rowLimit": 10000
     },
     "inputWidgets": {},
     "nuid": "6a709862-2df7-418c-8bf1-9bdcdbcbfd7c",
     "showTitle": false,
     "tableResultSettingsMap": {},
     "title": ""
    }
   },
   "source": [
    "## Funciones"
   ]
  },
  {
   "cell_type": "code",
   "execution_count": 0,
   "metadata": {
    "application/vnd.databricks.v1+cell": {
     "cellMetadata": {
      "byteLimit": 2048000,
      "rowLimit": 10000
     },
     "inputWidgets": {},
     "nuid": "7ae6f089-b763-462f-b7a6-e7974cf9a04e",
     "showTitle": false,
     "tableResultSettingsMap": {},
     "title": ""
    }
   },
   "outputs": [
    {
     "output_type": "display_data",
     "data": {
      "text/markdown": [
       "Fecha vacía"
      ]
     },
     "metadata": {},
     "output_type": "display_data"
    },
    {
     "output_type": "display_data",
     "data": {
      "text/markdown": [
       "Fecha futura"
      ]
     },
     "metadata": {},
     "output_type": "display_data"
    }
   ],
   "source": [
    "%run \"./Funciones\""
   ]
  },
  {
   "cell_type": "markdown",
   "metadata": {
    "application/vnd.databricks.v1+cell": {
     "cellMetadata": {
      "byteLimit": 2048000,
      "rowLimit": 10000
     },
     "inputWidgets": {},
     "nuid": "07f11dc0-0ec9-4cef-83cf-144889c9797e",
     "showTitle": false,
     "tableResultSettingsMap": {},
     "title": ""
    }
   },
   "source": [
    "## Validaciones"
   ]
  },
  {
   "cell_type": "markdown",
   "metadata": {
    "application/vnd.databricks.v1+cell": {
     "cellMetadata": {
      "byteLimit": 2048000,
      "rowLimit": 10000
     },
     "inputWidgets": {},
     "nuid": "c0084792-6fa5-48a0-8815-b3913c40c3d1",
     "showTitle": false,
     "tableResultSettingsMap": {},
     "title": ""
    }
   },
   "source": [
    "### Fecha vacía"
   ]
  },
  {
   "cell_type": "code",
   "execution_count": 0,
   "metadata": {
    "application/vnd.databricks.v1+cell": {
     "cellMetadata": {
      "byteLimit": 2048000,
      "rowLimit": 10000
     },
     "inputWidgets": {},
     "nuid": "8376be7d-0589-4097-9425-7d05eeb39008",
     "showTitle": false,
     "tableResultSettingsMap": {},
     "title": ""
    }
   },
   "outputs": [],
   "source": [
    "fecha_vacia(fechaProcesoX)"
   ]
  },
  {
   "cell_type": "markdown",
   "metadata": {
    "application/vnd.databricks.v1+cell": {
     "cellMetadata": {
      "byteLimit": 2048000,
      "rowLimit": 10000
     },
     "inputWidgets": {},
     "nuid": "776655f8-19c8-4e72-939c-173ba642fd57",
     "showTitle": false,
     "tableResultSettingsMap": {},
     "title": ""
    }
   },
   "source": [
    "### Fecha futura"
   ]
  },
  {
   "cell_type": "code",
   "execution_count": 0,
   "metadata": {
    "application/vnd.databricks.v1+cell": {
     "cellMetadata": {
      "byteLimit": 2048000,
      "rowLimit": 10000
     },
     "inputWidgets": {},
     "nuid": "e0a16dee-3428-41ce-9e8c-a5282150650b",
     "showTitle": false,
     "tableResultSettingsMap": {},
     "title": ""
    }
   },
   "outputs": [],
   "source": [
    "fecha_futura(fechaProcesoX)"
   ]
  },
  {
   "cell_type": "markdown",
   "metadata": {
    "application/vnd.databricks.v1+cell": {
     "cellMetadata": {
      "byteLimit": 2048000,
      "rowLimit": 10000
     },
     "inputWidgets": {},
     "nuid": "15f878d9-1115-43ac-af7f-d1996b8c491d",
     "showTitle": false,
     "tableResultSettingsMap": {},
     "title": ""
    }
   },
   "source": [
    "## Inicio de Lógica"
   ]
  },
  {
   "cell_type": "markdown",
   "metadata": {
    "application/vnd.databricks.v1+cell": {
     "cellMetadata": {
      "byteLimit": 2048000,
      "rowLimit": 10000
     },
     "inputWidgets": {},
     "nuid": "70f80bbc-b37c-439e-aae9-c4275afcbcfd",
     "showTitle": false,
     "tableResultSettingsMap": {},
     "title": ""
    }
   },
   "source": [
    "### Creación de tablas temporales que se eliminarán al final de la ejecución\n",
    "\n",
    "**************************************************************************"
   ]
  },
  {
   "cell_type": "markdown",
   "metadata": {
    "application/vnd.databricks.v1+cell": {
     "cellMetadata": {
      "byteLimit": 2048000,
      "rowLimit": 10000
     },
     "inputWidgets": {},
     "nuid": "99b4c1d7-b2da-494b-9f0e-e4c63c491393",
     "showTitle": false,
     "tableResultSettingsMap": {},
     "title": ""
    }
   },
   "source": [
    "#### Prov_Gr_Com_Fact_B1_0719_NUEVO.csv"
   ]
  },
  {
   "cell_type": "code",
   "execution_count": 0,
   "metadata": {
    "application/vnd.databricks.v1+cell": {
     "cellMetadata": {
      "byteLimit": 2048000,
      "rowLimit": 10000
     },
     "inputWidgets": {},
     "nuid": "ae82aed2-eebb-4d8f-9809-edc96af3abd5",
     "showTitle": false,
     "tableResultSettingsMap": {},
     "title": ""
    }
   },
   "outputs": [],
   "source": [
    "delete_prv_fac_ft_b1_com_ = \"\"\" DELETE FROM \"\"\" + platinum_dbX + \"\"\".prv_fac_ft_b1_com \n",
    "                                WHERE fec_proceso = to_date('\"\"\" + fechanormativo + \"\"\"', 'yyyy-MM-dd') \"\"\""
   ]
  },
  {
   "cell_type": "code",
   "execution_count": 0,
   "metadata": {
    "application/vnd.databricks.v1+cell": {
     "cellMetadata": {
      "byteLimit": 2048000,
      "rowLimit": 10000
     },
     "inputWidgets": {},
     "nuid": "4d9eeff9-d049-4d74-8334-7cb6e4e42f25",
     "showTitle": false,
     "tableResultSettingsMap": {},
     "title": ""
    }
   },
   "outputs": [
    {
     "output_type": "stream",
     "name": "stdout",
     "output_type": "stream",
     "text": [
      "sql_safe: query ->  DELETE FROM dsr_plt_normativo_db.prv_fac_ft_b1_com \n                                WHERE fec_proceso = to_date('2025-05-30', 'yyyy-MM-dd') \n"
     ]
    },
    {
     "output_type": "execute_result",
     "data": {
      "text/plain": [
       "DataFrame[num_affected_rows: bigint]"
      ]
     },
     "execution_count": 34,
     "metadata": {},
     "output_type": "execute_result"
    }
   ],
   "source": [
    "sql_safe(delete_prv_fac_ft_b1_com_)"
   ]
  },
  {
   "cell_type": "code",
   "execution_count": 0,
   "metadata": {
    "application/vnd.databricks.v1+cell": {
     "cellMetadata": {
      "byteLimit": 2048000,
      "rowLimit": 10000
     },
     "inputWidgets": {},
     "nuid": "f6785b08-707e-46d1-b162-dab275b2baf8",
     "showTitle": false,
     "tableResultSettingsMap": {},
     "title": ""
    }
   },
   "outputs": [],
   "source": [
    "insert_prv_fac_ft_b1_com = \"\"\" INSERT INTO \"\"\" + platinum_dbX + \"\"\".prv_fac_ft_b1_com  \n",
    "(\n",
    "select\n",
    "cli_idc AS rut_cliente\n",
    ",cli_vrt AS dv_cliente\n",
    ",cli_rzn_soc AS des_razon_social_cliente\n",
    ",ddr_idc AS rut_deudor\n",
    ",ddr_vrt AS dv_deudor\n",
    ",ddr_rzn_soc AS des_razon_social_deudor\n",
    ",pdt_des_cra AS ind_tipo_documento\n",
    ",doc_num_documento AS num_documento\n",
    ",doc_num_cuota AS num_cuota\n",
    ",Deuda_TotalIFRS AS mnt_saldo_documento\n",
    ",dod_cod_cobranza AS ind_codigo_cobranza\n",
    ",cod_aec AS ind_actividad_economica\n",
    ",dpf_ind_responsabilidad AS ind_responsabilidad_operacion\n",
    ",to_date(dpf_fec_vencimiento, 'yyyy-MM-dd') AS fec_vcto_doc_con_prorroga\n",
    ",\"GRUPAL\" AS des_tipo_segmento\n",
    ",dod_ind_cartera AS des_cartera_del_documento\n",
    ",Clasificacion_Cliente AS cod_clasif_cliente\n",
    ",Clasificacion_Deudor AS cod_clasif_deudor\n",
    ",Dias_Mora AS num_dias_mora\n",
    ",doc_num_operacion AS num_operacion\n",
    ",doc_id_documento AS num_id_documento\n",
    ",doc_ind_fin_mes AS ind_fin_de_mes_doc\n",
    ",CASE WHEN PI_A > 0 THEN PI_A\n",
    "ELSE PI END as pct_pi\n",
    ",CASE WHEN PDI_A > 0 THEN PDI_A\n",
    "ELSE PDI END as pct_pdi\n",
    ",ROUND((CASE WHEN PI_A > 0 THEN PI_A ELSE PI END)*(CASE WHEN PDI_A > 0 THEN PDI_A ELSE PDI END)*Deuda_TotalIFRS) AS pct_pe\n",
    ",to_date('\"\"\" + fechanormativo + \"\"\"', 'yyyy-MM-dd') AS fec_proceso\n",
    "from \"\"\"+platinum_temp_dbX+\"\"\".Tmp_Fundir_Prov_d00\n",
    ")\n",
    "\"\"\""
   ]
  },
  {
   "cell_type": "code",
   "execution_count": 0,
   "metadata": {
    "application/vnd.databricks.v1+cell": {
     "cellMetadata": {
      "byteLimit": 2048000,
      "rowLimit": 10000
     },
     "inputWidgets": {},
     "nuid": "184331a9-e238-49e7-ae57-ea743af61b75",
     "showTitle": false,
     "tableResultSettingsMap": {},
     "title": ""
    }
   },
   "outputs": [
    {
     "output_type": "stream",
     "name": "stdout",
     "output_type": "stream",
     "text": [
      "sql_safe: query ->  INSERT INTO dsr_plt_normativo_db.prv_fac_ft_b1_com  \n(\nselect\ncli_idc AS rut_cliente\n,cli_vrt AS dv_cliente\n,cli_rzn_soc AS des_razon_social_cliente\n,ddr_idc AS rut_deudor\n,ddr_vrt AS dv_deudor\n,ddr_rzn_soc AS des_razon_social_deudor\n,pdt_des_cra AS ind_tipo_documento\n,doc_num_documento AS num_documento\n,doc_num_cuota AS num_cuota\n,Deuda_TotalIFRS AS mnt_saldo_documento\n,dod_cod_cobranza AS ind_codigo_cobranza\n,cod_aec AS ind_actividad_economica\n,dpf_ind_responsabilidad AS ind_responsabilidad_operacion\n,to_date(dpf_fec_vencimiento, 'yyyy-MM-dd') AS fec_vcto_doc_con_prorroga\n,\"GRUPAL\" AS des_tipo_segmento\n,dod_ind_cartera AS des_cartera_del_documento\n,Clasificacion_Cliente AS cod_clasif_cliente\n,Clasificacion_Deudor AS cod_clasif_deudor\n,Dias_Mora AS num_dias_mora\n,doc_num_operacion AS num_operacion\n,doc_id_documento AS num_id_documento\n,doc_ind_fin_mes AS ind_fin_de_mes_doc\n,CASE WHEN PI_A > 0 THEN PI_A\nELSE PI END as pct_pi\n,CASE WHEN PDI_A > 0 THEN PDI_A\nELSE PDI END as pct_pdi\n,ROUND((CASE WHEN PI_A > 0 THEN PI_A ELSE PI END)*(CASE WHEN PDI_A > 0 THEN PDI_A ELSE PDI END)*Deuda_TotalIFRS) AS pct_pe\n,to_date('2025-05-30', 'yyyy-MM-dd') AS fec_proceso\nfrom dsr_plt_bcitemp_db.Tmp_Fundir_Prov_d00\n)\n\n"
     ]
    },
    {
     "output_type": "execute_result",
     "data": {
      "text/plain": [
       "DataFrame[num_affected_rows: bigint, num_inserted_rows: bigint]"
      ]
     },
     "execution_count": 36,
     "metadata": {},
     "output_type": "execute_result"
    }
   ],
   "source": [
    "sql_safe(insert_prv_fac_ft_b1_com)"
   ]
  },
  {
   "cell_type": "markdown",
   "metadata": {
    "application/vnd.databricks.v1+cell": {
     "cellMetadata": {
      "byteLimit": 2048000,
      "rowLimit": 10000
     },
     "inputWidgets": {},
     "nuid": "7791d79e-d9e5-4236-9847-0dce94dd048d",
     "showTitle": false,
     "tableResultSettingsMap": {},
     "title": ""
    }
   },
   "source": [
    "#### Prov_Gr_Com_Fact_B1_Result_0719_NUEVO.txt"
   ]
  },
  {
   "cell_type": "code",
   "execution_count": 0,
   "metadata": {
    "application/vnd.databricks.v1+cell": {
     "cellMetadata": {
      "byteLimit": 2048000,
      "rowLimit": 10000
     },
     "inputWidgets": {},
     "nuid": "31f1a48b-a663-4971-ac3b-13503eb64c88",
     "showTitle": false,
     "tableResultSettingsMap": {},
     "title": ""
    }
   },
   "outputs": [],
   "source": [
    "delete_prv_fac_ft_b1_com_result = \"\"\" DELETE FROM \"\"\" + platinum_dbX + \"\"\".prv_fac_ft_b1_com_result\n",
    "                                      WHERE fec_proceso = to_date('\"\"\" + fechanormativo + \"\"\"', 'yyyy-MM-dd') \"\"\""
   ]
  },
  {
   "cell_type": "code",
   "execution_count": 0,
   "metadata": {
    "application/vnd.databricks.v1+cell": {
     "cellMetadata": {
      "byteLimit": 2048000,
      "rowLimit": 10000
     },
     "inputWidgets": {},
     "nuid": "cf9c38f9-d6f8-41fd-9a05-3f1eda4ce206",
     "showTitle": false,
     "tableResultSettingsMap": {},
     "title": ""
    }
   },
   "outputs": [
    {
     "output_type": "stream",
     "name": "stdout",
     "output_type": "stream",
     "text": [
      "sql_safe: query ->  DELETE FROM dsr_plt_normativo_db.prv_fac_ft_b1_com_result\n                                      WHERE fec_proceso = to_date('2025-05-30', 'yyyy-MM-dd') \n"
     ]
    },
    {
     "output_type": "execute_result",
     "data": {
      "text/plain": [
       "DataFrame[num_affected_rows: bigint]"
      ]
     },
     "execution_count": 38,
     "metadata": {},
     "output_type": "execute_result"
    }
   ],
   "source": [
    "sql_safe(delete_prv_fac_ft_b1_com_result)"
   ]
  },
  {
   "cell_type": "code",
   "execution_count": 0,
   "metadata": {
    "application/vnd.databricks.v1+cell": {
     "cellMetadata": {
      "byteLimit": 2048000,
      "rowLimit": 10000
     },
     "inputWidgets": {},
     "nuid": "78dd0576-59bc-405c-89f7-5b85d27a71b9",
     "showTitle": false,
     "tableResultSettingsMap": {},
     "title": ""
    }
   },
   "outputs": [],
   "source": [
    "insert_prv_fac_ft_b1_com_result = \"\"\" INSERT INTO \"\"\" + platinum_dbX + \"\"\".prv_fac_ft_b1_com_result\n",
    "select \n",
    "Cod_niid AS num_operacion\n",
    ",cli_idc AS rut_cliente\n",
    ",cli_vrt AS dv_cliente\n",
    ",ddr_idc AS rut_deudor\n",
    ",ddr_vrt AS dv_deudor\n",
    ",doc_num_documento AS num_documento_fact\n",
    ",Deuda_TotalIFRS AS mto_saldo_ifrs\n",
    ",Clasificacion AS ind_segmentacion\n",
    ",Clasificacion_Deudor AS cod_clasif_deudor\n",
    ",Dias_Mora AS num_dias_mora\n",
    ",CASE WHEN Dias_Mora=0 and Colo_EsCardetIrr=0 then \"0\"\n",
    "WHEN Dias_Mora>=1 and Dias_Mora<=29 and Colo_EsCardetIrr=0 then \"1-29\"\n",
    "WHEN Dias_Mora>=30 and Dias_Mora<=59 and Colo_EsCardetIrr=0 then \"30-59\"\n",
    "WHEN Dias_Mora>=60 and Dias_Mora<=89 and Colo_EsCardetIrr=0 then \"60-89\"\n",
    "else \"Incumpl\" END AS des_tramo_mora\n",
    ",doc_num_operacion AS num_operacion_fact\n",
    ",doc_id_documento AS num_id_documento_fact\n",
    ",Responsabilidad_CedenteFactoring AS cod_responsabilidad_cedente\n",
    ",Ind_Castigo AS cod_castigo\n",
    ",Colo_EsCardetIrr AS cod_cart_deteriorada\n",
    ",PI AS pct_pi\n",
    ",PDI AS pct_pdi\n",
    ",PI_A AS pct_pi_aval\n",
    ",PDI_A AS pct_pdi_aval\n",
    ",ROUND((PI*PDI*Deuda_TotalIFRS),3) AS mnt_provision\n",
    ",\"BCI\" as des_entidad\n",
    ",Tipo_Prestamo as des_tipo_prestamo\n",
    ",CASE WHEN trim(Tipo_Prestamo)=\"ESTUDIANTIL\" then \"EST\"\n",
    "WHEN trim(Tipo_Prestamo)=\"LEASING\" then \"LEA\"\n",
    "else \"COM\" END AS des_matriz\n",
    ",ROUND((PI * PDI),3) AS pct_pe\n",
    ",ROUND((PI_A * PDI_A),3) AS pct_pe_aval\n",
    ",1 AS pct_factor_cubierto_aval\n",
    ",'\"\"\"+ anomes +\"\"\"' as id_periodo\n",
    ",CASE WHEN trim(pdt_des_cra)=\"IC\" or trim(pdt_des_cra)=\"IF\" or trim(pdt_des_cra)=\"EF\" or trim(pdt_des_cra)=\"BF\" then 24 \n",
    "else 23 END AS ind_negocio\n",
    ",CASE WHEN Calif_Deudor_Permitida=1 then \"AVL\" else \"\" END AS des_tipo_mitigador\n",
    ",CASE WHEN Calif_Deudor_Permitida=1 then Deuda_TotalIFRS else 0 END AS mnt_avalado\n",
    ",ROUND(PROV_d00,3) AS mnt_provision_con_mitigacion\n",
    ",to_date('\"\"\" + fechanormativo + \"\"\"', 'yyyy-MM-dd') AS fec_proceso\n",
    "FROM \"\"\"+platinum_temp_dbX+\"\"\".Tmp_Fundir_Prov_d00\n",
    "\"\"\""
   ]
  },
  {
   "cell_type": "code",
   "execution_count": 0,
   "metadata": {
    "application/vnd.databricks.v1+cell": {
     "cellMetadata": {
      "byteLimit": 2048000,
      "rowLimit": 10000
     },
     "inputWidgets": {},
     "nuid": "c5424a3d-7634-4823-9fbe-b2d5d9bfbdcf",
     "showTitle": false,
     "tableResultSettingsMap": {},
     "title": ""
    }
   },
   "outputs": [
    {
     "output_type": "stream",
     "name": "stdout",
     "output_type": "stream",
     "text": [
      "sql_safe: query ->  INSERT INTO dsr_plt_normativo_db.prv_fac_ft_b1_com_result\nselect \nCod_niid AS num_operacion\n,cli_idc AS rut_cliente\n,cli_vrt AS dv_cliente\n,ddr_idc AS rut_deudor\n,ddr_vrt AS dv_deudor\n,doc_num_documento AS num_documento_fact\n,Deuda_TotalIFRS AS mto_saldo_ifrs\n,Clasificacion AS ind_segmentacion\n,Clasificacion_Deudor AS cod_clasif_deudor\n,Dias_Mora AS num_dias_mora\n,CASE WHEN Dias_Mora=0 and Colo_EsCardetIrr=0 then \"0\"\nWHEN Dias_Mora>=1 and Dias_Mora<=29 and Colo_EsCardetIrr=0 then \"1-29\"\nWHEN Dias_Mora>=30 and Dias_Mora<=59 and Colo_EsCardetIrr=0 then \"30-59\"\nWHEN Dias_Mora>=60 and Dias_Mora<=89 and Colo_EsCardetIrr=0 then \"60-89\"\nelse \"Incumpl\" END AS des_tramo_mora\n,doc_num_operacion AS num_operacion_fact\n,doc_id_documento AS num_id_documento_fact\n,Responsabilidad_CedenteFactoring AS cod_responsabilidad_cedente\n,Ind_Castigo AS cod_castigo\n,Colo_EsCardetIrr AS cod_cart_deteriorada\n,PI AS pct_pi\n,PDI AS pct_pdi\n,PI_A AS pct_pi_aval\n,PDI_A AS pct_pdi_aval\n,ROUND((PI*PDI*Deuda_TotalIFRS),3) AS mnt_provision\n,\"BCI\" as des_entidad\n,Tipo_Prestamo as des_tipo_prestamo\n,CASE WHEN trim(Tipo_Prestamo)=\"ESTUDIANTIL\" then \"EST\"\nWHEN trim(Tipo_Prestamo)=\"LEASING\" then \"LEA\"\nelse \"COM\" END AS des_matriz\n,ROUND((PI * PDI),3) AS pct_pe\n,ROUND((PI_A * PDI_A),3) AS pct_pe_aval\n,1 AS pct_factor_cubierto_aval\n,'202505' as id_periodo\n,CASE WHEN trim(pdt_des_cra)=\"IC\" or trim(pdt_des_cra)=\"IF\" or trim(pdt_des_cra)=\"EF\" or trim(pdt_des_cra)=\"BF\" then 24 \nelse 23 END AS ind_negocio\n,CASE WHEN Calif_Deudor_Permitida=1 then \"AVL\" else \"\" END AS des_tipo_mitigador\n,CASE WHEN Calif_Deudor_Permitida=1 then Deuda_TotalIFRS else 0 END AS mnt_avalado\n,ROUND(PROV_d00,3) AS mnt_provision_con_mitigacion\n,to_date('2025-05-30', 'yyyy-MM-dd') AS fec_proceso\nFROM dsr_plt_bcitemp_db.Tmp_Fundir_Prov_d00\n\n"
     ]
    },
    {
     "output_type": "execute_result",
     "data": {
      "text/plain": [
       "DataFrame[num_affected_rows: bigint, num_inserted_rows: bigint]"
      ]
     },
     "execution_count": 40,
     "metadata": {},
     "output_type": "execute_result"
    }
   ],
   "source": [
    "sql_safe(insert_prv_fac_ft_b1_com_result)"
   ]
  },
  {
   "cell_type": "markdown",
   "metadata": {
    "application/vnd.databricks.v1+cell": {
     "cellMetadata": {
      "byteLimit": 2048000,
      "rowLimit": 10000
     },
     "inputWidgets": {},
     "nuid": "9287dc73-8411-4c16-88a7-5ec98d1f2bc8",
     "showTitle": false,
     "tableResultSettingsMap": {},
     "title": ""
    }
   },
   "source": [
    "## Mensaje Final"
   ]
  },
  {
   "cell_type": "code",
   "execution_count": 0,
   "metadata": {
    "application/vnd.databricks.v1+cell": {
     "cellMetadata": {
      "byteLimit": 2048000,
      "rowLimit": 10000
     },
     "inputWidgets": {},
     "nuid": "e3b9a0e1-747f-4b2d-95f6-5cce3c957c94",
     "showTitle": false,
     "tableResultSettingsMap": {},
     "title": ""
    }
   },
   "outputs": [],
   "source": [
    "dbutils.notebook.exit(\"{\\\"coderror\\\":\\\"0\\\", \\\"msgerror\\\":\\\"Notebook termina ejecucion satisfactoriamente\\\"}\")"
   ]
  }
 ],
 "metadata": {
  "application/vnd.databricks.v1+notebook": {
   "computePreferences": null,
   "dashboards": [],
   "environmentMetadata": {
    "base_environment": "",
    "environment_version": "2"
   },
   "inputWidgetPreferences": null,
   "language": "python",
   "notebookMetadata": {
    "mostRecentlyExecutedCommandWithImplicitDF": {
     "commandId": 8868507061815307,
     "dataframes": [
      "_sqldf"
     ]
    },
    "pythonIndentUnit": 2
   },
   "notebookName": "BCI_006_Matriz_Comercial_B1_Factoring",
   "widgets": {
    "fechaProcesoW": {
     "currentValue": "20250530",
     "nuid": "963e42fc-c392-4a15-ae9d-68b376bcc589",
     "typedWidgetInfo": {
      "autoCreated": false,
      "defaultValue": "",
      "label": "01 Fecha Proceso :",
      "name": "fechaProcesoW",
      "options": {
       "widgetDisplayType": "Text",
       "validationRegex": null
      },
      "parameterDataType": "String"
     },
     "widgetInfo": {
      "widgetType": "text",
      "defaultValue": "",
      "label": "01 Fecha Proceso :",
      "name": "fechaProcesoW",
      "options": {
       "widgetType": "text",
       "autoCreated": null,
       "validationRegex": null
      }
     }
    },
    "platinum_dbW": {
     "currentValue": "dsr_plt_normativo_db",
     "nuid": "beda3749-bbf0-4d63-b161-7b2cfa10fbba",
     "typedWidgetInfo": {
      "autoCreated": false,
      "defaultValue": "",
      "label": "03 platinum db:",
      "name": "platinum_dbW",
      "options": {
       "widgetDisplayType": "Text",
       "validationRegex": null
      },
      "parameterDataType": "String"
     },
     "widgetInfo": {
      "widgetType": "text",
      "defaultValue": "",
      "label": "03 platinum db:",
      "name": "platinum_dbW",
      "options": {
       "widgetType": "text",
       "autoCreated": null,
       "validationRegex": null
      }
     }
    },
    "platinum_temp_dbW": {
     "currentValue": "dsr_plt_bcitemp_db",
     "nuid": "eec794c0-20a5-4ca9-b905-6ea431294898",
     "typedWidgetInfo": {
      "autoCreated": false,
      "defaultValue": "",
      "label": "02 platinum temp db:",
      "name": "platinum_temp_dbW",
      "options": {
       "widgetDisplayType": "Text",
       "validationRegex": null
      },
      "parameterDataType": "String"
     },
     "widgetInfo": {
      "widgetType": "text",
      "defaultValue": "",
      "label": "02 platinum temp db:",
      "name": "platinum_temp_dbW",
      "options": {
       "widgetType": "text",
       "autoCreated": null,
       "validationRegex": null
      }
     }
    }
   }
  },
  "language_info": {
   "name": "python"
  }
 },
 "nbformat": 4,
 "nbformat_minor": 0
}