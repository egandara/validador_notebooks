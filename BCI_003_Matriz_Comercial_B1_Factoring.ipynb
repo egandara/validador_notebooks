{
 "cells": [
  {
   "cell_type": "markdown",
   "metadata": {
    "application/vnd.databricks.v1+cell": {
     "cellMetadata": {
      "byteLimit": 2048000,
      "rowLimit": 10000
     },
     "inputWidgets": {},
     "nuid": "f4352a4e-f4c7-4310-a21b-ae671f4bd5db",
     "showTitle": false,
     "tableResultSettingsMap": {},
     "title": ""
    }
   },
   "source": [
    "# BCI_003_Matriz_Comercial_B1_Factoring"
   ]
  },
  {
   "cell_type": "markdown",
   "metadata": {
    "application/vnd.databricks.v1+cell": {
     "cellMetadata": {
      "byteLimit": 2048000,
      "rowLimit": 10000
     },
     "inputWidgets": {},
     "nuid": "1fd3a4aa-a9e2-4bbe-9168-929532d27439",
     "showTitle": false,
     "tableResultSettingsMap": {},
     "title": ""
    }
   },
   "source": [
    "## Información del Notebook"
   ]
  },
  {
   "cell_type": "markdown",
   "metadata": {
    "application/vnd.databricks.v1+cell": {
     "cellMetadata": {
      "byteLimit": 2048000,
      "rowLimit": 10000
     },
     "inputWidgets": {},
     "nuid": "78fb6037-6b71-49c3-b83d-1bc8e03813ca",
     "showTitle": false,
     "tableResultSettingsMap": {},
     "title": ""
    }
   },
   "source": [
    "### Encabezado\n",
    "**************************************************************************\n",
    "* Nombre: \n",
    "* Ruta: \n",
    "* Autor: Esteban Gándara\n",
    "* Ing. Rafael Montecinos - rafael.montecinost@bci.cl\n",
    "* Fecha: 19/05/2025\n",
    "* Descripción: \n",
    "* Documentación: \n",
    "***************************************************************************"
   ]
  },
  {
   "cell_type": "markdown",
   "metadata": {
    "application/vnd.databricks.v1+cell": {
     "cellMetadata": {
      "byteLimit": 2048000,
      "rowLimit": 10000
     },
     "inputWidgets": {},
     "nuid": "4bc27ba2-ac12-4b3a-9afe-22fd3cdbbc67",
     "showTitle": false,
     "tableResultSettingsMap": {},
     "title": ""
    }
   },
   "source": [
    "### Mantenciones\n",
    "**************************************************************************\n",
    "#### Mantención Nro: \n",
    "* Autor: <Nombre Autor> (<Empresa del Autor (Bci/Otra)>) - Ing. SW BCI: <Nombre Ing. SW BCI>\n",
    "* Fecha: <dd/mm/yyyy> \n",
    "* Descripción: <Descripción de la mantención>      \n",
    "************************************************"
   ]
  },
  {
   "cell_type": "markdown",
   "metadata": {
    "application/vnd.databricks.v1+cell": {
     "cellMetadata": {
      "byteLimit": 2048000,
      "rowLimit": 10000
     },
     "inputWidgets": {},
     "nuid": "caca1b06-42cb-404a-a54c-130594c7d0c3",
     "showTitle": false,
     "tableResultSettingsMap": {},
     "title": ""
    }
   },
   "source": [
    "### Tablas Entrada y Salida\n",
    "**************************************************************************\n",
    "#### Tablas Entrada: \n",
    "* \n",
    "* \n",
    "***************************************************************************\n",
    "#### Tablas Salida: \n",
    "* "
   ]
  },
  {
   "cell_type": "markdown",
   "metadata": {
    "application/vnd.databricks.v1+cell": {
     "cellMetadata": {
      "byteLimit": 2048000,
      "rowLimit": 10000
     },
     "inputWidgets": {},
     "nuid": "74185635-8a77-4fb4-bb8b-6eeaa351fe81",
     "showTitle": false,
     "tableResultSettingsMap": {},
     "title": ""
    }
   },
   "source": [
    "## Captura de Variables"
   ]
  },
  {
   "cell_type": "code",
   "execution_count": 0,
   "metadata": {
    "application/vnd.databricks.v1+cell": {
     "cellMetadata": {
      "byteLimit": 2048000,
      "rowLimit": 10000
     },
     "inputWidgets": {},
     "nuid": "3943d14d-8ac5-4b77-ae0d-b45bb734812f",
     "showTitle": false,
     "tableResultSettingsMap": {},
     "title": ""
    }
   },
   "outputs": [],
   "source": [
    "dbutils.widgets.removeAll()\n",
    "dbutils.widgets.text(\"fechaProcesoW\",\"\",\"01 Fecha Proceso :\")\n",
    "dbutils.widgets.text(\"platinum_temp_dbW\",\"\",\"02 platinum temp db:\")\n",
    "dbutils.widgets.text(\"db_location_platinum_tempW\",\"\",\"03 Location DB Platinum Temp:\")"
   ]
  },
  {
   "cell_type": "markdown",
   "metadata": {
    "application/vnd.databricks.v1+cell": {
     "cellMetadata": {
      "byteLimit": 2048000,
      "rowLimit": 10000
     },
     "inputWidgets": {},
     "nuid": "78a06e10-f276-4d30-a5ce-16a92c3fa7a3",
     "showTitle": false,
     "tableResultSettingsMap": {},
     "title": ""
    }
   },
   "source": [
    "### Asignar Objeto a Lectura de Widgets y Variables"
   ]
  },
  {
   "cell_type": "code",
   "execution_count": 0,
   "metadata": {
    "application/vnd.databricks.v1+cell": {
     "cellMetadata": {
      "byteLimit": 2048000,
      "rowLimit": 10000
     },
     "inputWidgets": {},
     "nuid": "e04238c7-091d-4820-86e6-23c23f7937d0",
     "showTitle": false,
     "tableResultSettingsMap": {},
     "title": ""
    }
   },
   "outputs": [
    {
     "output_type": "stream",
     "name": "stdout",
     "output_type": "stream",
     "text": [
      "*****Parámetros*****\nfechaProcesoX: 20250530\nplatinum_temp_dbX: dsr_plt_bcitemp_db\ndb_location_platinum_tempW: abfss://platinum@bcirg2dlssbx.dfs.core.windows.net/plt_normativo_db/prv_hip/\n"
     ]
    }
   ],
   "source": [
    "fechaProcesoX = dbutils.widgets.get(\"fechaProcesoW\")\n",
    "spark.conf.set(\"bci.fechaProcesoX\", fechaProcesoX)\n",
    "\n",
    "platinum_temp_dbX = dbutils.widgets.get(\"platinum_temp_dbW\")\n",
    "spark.conf.set(\"bci.platinum_temp_dbX\", platinum_temp_dbX)\n",
    "\n",
    "db_location_platinum_tempX = dbutils.widgets.get(\"db_location_platinum_tempW\")\n",
    "spark.conf.set(\"bci.db_location_platinum_tempX\", db_location_platinum_tempX)\n",
    "\n",
    "print(\"*****Parámetros*****\")\n",
    "print(\"fechaProcesoX: \" + fechaProcesoX)\n",
    "print(\"platinum_temp_dbX: \" + platinum_temp_dbX)\n",
    "print(\"db_location_platinum_tempW: \" + db_location_platinum_tempX)"
   ]
  },
  {
   "cell_type": "markdown",
   "metadata": {
    "application/vnd.databricks.v1+cell": {
     "cellMetadata": {
      "byteLimit": 2048000,
      "rowLimit": 10000
     },
     "inputWidgets": {},
     "nuid": "e8a3825a-48e8-4e01-8774-c12b73bb1cca",
     "showTitle": false,
     "tableResultSettingsMap": {},
     "title": ""
    }
   },
   "source": [
    "### Librerías"
   ]
  },
  {
   "cell_type": "code",
   "execution_count": 0,
   "metadata": {
    "application/vnd.databricks.v1+cell": {
     "cellMetadata": {
      "byteLimit": 2048000,
      "rowLimit": 10000
     },
     "inputWidgets": {},
     "nuid": "25e192fc-ceb5-4d4e-b5c6-6575fc3267c9",
     "showTitle": false,
     "tableResultSettingsMap": {},
     "title": ""
    }
   },
   "outputs": [],
   "source": [
    "import json\n",
    "from datetime import datetime, date, time, timedelta\n",
    "from dateutil.relativedelta import relativedelta\n",
    "\n",
    "# Obtener fecha actual\n",
    "current_date_str = datetime.now().strftime(\"%Y-%m-%d\")\n",
    "current_date = datetime.strptime(current_date_str, \"%Y-%m-%d\")\n",
    "formatted_date = str(current_date.strftime(\"%Y%m%d\"))"
   ]
  },
  {
   "cell_type": "markdown",
   "metadata": {
    "application/vnd.databricks.v1+cell": {
     "cellMetadata": {
      "byteLimit": 2048000,
      "rowLimit": 10000
     },
     "inputWidgets": {},
     "nuid": "03eb81fd-f82d-4906-8b44-eefb3087b33f",
     "showTitle": false,
     "tableResultSettingsMap": {},
     "title": ""
    }
   },
   "source": [
    "###Asigan Variables de fecha"
   ]
  },
  {
   "cell_type": "code",
   "execution_count": 0,
   "metadata": {
    "application/vnd.databricks.v1+cell": {
     "cellMetadata": {
      "byteLimit": 2048000,
      "rowLimit": 10000
     },
     "inputWidgets": {},
     "nuid": "adaf39c0-efcc-48f7-9683-b9cab818dadb",
     "showTitle": false,
     "tableResultSettingsMap": {},
     "title": ""
    }
   },
   "outputs": [
    {
     "output_type": "stream",
     "name": "stdout",
     "output_type": "stream",
     "text": [
      "fecha_Formato1: 2025\nfecha_Formato2: 05\nfecha_Formato3: 30\nfecha_Formato4: 2025-05-30\nfecha_Formato5: 30-05-2025\nfecha_Formato6: 202505\nfecha_Formato7: 20250530\nfecha_formato8: 2025/05/30\n"
     ]
    }
   ],
   "source": [
    "ano = str(fechaProcesoX)[:4]\n",
    "mes = str(fechaProcesoX)[4:][:2]\n",
    "dia = str(fechaProcesoX)[6:][:2]\n",
    "fechanormativo = str(ano+'-'+mes+'-'+dia)\n",
    "fechacinta = str(dia+'-'+mes+'-'+ano)\n",
    "anomes = str(ano+mes)\n",
    "anomesdia = str(ano+mes+dia)\n",
    "anomesdia2 = str(ano+'/'+mes+'/'+dia)\n",
    "\n",
    "\n",
    "print(\"fecha_Formato1: \" + ano)\n",
    "print(\"fecha_Formato2: \" + mes)\n",
    "print(\"fecha_Formato3: \" + dia)\n",
    "print(\"fecha_Formato4: \" + fechanormativo)\n",
    "print(\"fecha_Formato5: \" + fechacinta)\n",
    "print(\"fecha_Formato6: \" + anomes)\n",
    "print(\"fecha_Formato7: \" + anomesdia)\n",
    "print(\"fecha_formato8: \" + anomesdia2)"
   ]
  },
  {
   "cell_type": "markdown",
   "metadata": {
    "application/vnd.databricks.v1+cell": {
     "cellMetadata": {
      "byteLimit": 2048000,
      "rowLimit": 10000
     },
     "inputWidgets": {},
     "nuid": "6a709862-2df7-418c-8bf1-9bdcdbcbfd7c",
     "showTitle": false,
     "tableResultSettingsMap": {},
     "title": ""
    }
   },
   "source": [
    "## Funciones"
   ]
  },
  {
   "cell_type": "code",
   "execution_count": 0,
   "metadata": {
    "application/vnd.databricks.v1+cell": {
     "cellMetadata": {
      "byteLimit": 2048000,
      "rowLimit": 10000
     },
     "inputWidgets": {},
     "nuid": "7ae6f089-b763-462f-b7a6-e7974cf9a04e",
     "showTitle": false,
     "tableResultSettingsMap": {},
     "title": ""
    }
   },
   "outputs": [
    {
     "output_type": "display_data",
     "data": {
      "text/markdown": [
       "Fecha vacía"
      ]
     },
     "metadata": {},
     "output_type": "display_data"
    },
    {
     "output_type": "display_data",
     "data": {
      "text/markdown": [
       "Fecha futura"
      ]
     },
     "metadata": {},
     "output_type": "display_data"
    }
   ],
   "source": [
    "%run \"./Funciones\""
   ]
  },
  {
   "cell_type": "markdown",
   "metadata": {
    "application/vnd.databricks.v1+cell": {
     "cellMetadata": {
      "byteLimit": 2048000,
      "rowLimit": 10000
     },
     "inputWidgets": {},
     "nuid": "07f11dc0-0ec9-4cef-83cf-144889c9797e",
     "showTitle": false,
     "tableResultSettingsMap": {},
     "title": ""
    }
   },
   "source": [
    "## Validaciones"
   ]
  },
  {
   "cell_type": "markdown",
   "metadata": {
    "application/vnd.databricks.v1+cell": {
     "cellMetadata": {
      "byteLimit": 2048000,
      "rowLimit": 10000
     },
     "inputWidgets": {},
     "nuid": "c0084792-6fa5-48a0-8815-b3913c40c3d1",
     "showTitle": false,
     "tableResultSettingsMap": {},
     "title": ""
    }
   },
   "source": [
    "### Fecha vacía"
   ]
  },
  {
   "cell_type": "code",
   "execution_count": 0,
   "metadata": {
    "application/vnd.databricks.v1+cell": {
     "cellMetadata": {
      "byteLimit": 2048000,
      "rowLimit": 10000
     },
     "inputWidgets": {},
     "nuid": "8376be7d-0589-4097-9425-7d05eeb39008",
     "showTitle": false,
     "tableResultSettingsMap": {},
     "title": ""
    }
   },
   "outputs": [],
   "source": [
    "fecha_vacia(fechaProcesoX)"
   ]
  },
  {
   "cell_type": "markdown",
   "metadata": {
    "application/vnd.databricks.v1+cell": {
     "cellMetadata": {
      "byteLimit": 2048000,
      "rowLimit": 10000
     },
     "inputWidgets": {},
     "nuid": "776655f8-19c8-4e72-939c-173ba642fd57",
     "showTitle": false,
     "tableResultSettingsMap": {},
     "title": ""
    }
   },
   "source": [
    "### Fecha futura"
   ]
  },
  {
   "cell_type": "code",
   "execution_count": 0,
   "metadata": {
    "application/vnd.databricks.v1+cell": {
     "cellMetadata": {
      "byteLimit": 2048000,
      "rowLimit": 10000
     },
     "inputWidgets": {},
     "nuid": "e0a16dee-3428-41ce-9e8c-a5282150650b",
     "showTitle": false,
     "tableResultSettingsMap": {},
     "title": ""
    }
   },
   "outputs": [],
   "source": [
    "fecha_futura(fechaProcesoX)"
   ]
  },
  {
   "cell_type": "markdown",
   "metadata": {
    "application/vnd.databricks.v1+cell": {
     "cellMetadata": {
      "byteLimit": 2048000,
      "rowLimit": 10000
     },
     "inputWidgets": {},
     "nuid": "15f878d9-1115-43ac-af7f-d1996b8c491d",
     "showTitle": false,
     "tableResultSettingsMap": {},
     "title": ""
    }
   },
   "source": [
    "## Inicio de Lógica"
   ]
  },
  {
   "cell_type": "markdown",
   "metadata": {
    "application/vnd.databricks.v1+cell": {
     "cellMetadata": {
      "byteLimit": 2048000,
      "rowLimit": 10000
     },
     "inputWidgets": {},
     "nuid": "c27ce684-5ffc-4c44-8340-e0ccb22ec627",
     "showTitle": false,
     "tableResultSettingsMap": {},
     "title": ""
    }
   },
   "source": [
    "### Creación de tablas temporales que se eliminarán al final de la ejecución\n",
    "\n",
    "**************************************************************************"
   ]
  },
  {
   "cell_type": "code",
   "execution_count": 0,
   "metadata": {
    "application/vnd.databricks.v1+cell": {
     "cellMetadata": {
      "byteLimit": 2048000,
      "rowLimit": 10000
     },
     "inputWidgets": {},
     "nuid": "91fc68b8-a674-455d-bdb0-f713231f1ef4",
     "showTitle": false,
     "tableResultSettingsMap": {},
     "title": ""
    }
   },
   "outputs": [],
   "source": [
    "drop_tmp_003_Tmp_Pi_Pdi = \"\"\" DROP TABLE IF EXISTS \"\"\" + platinum_temp_dbX + \"\"\".Tmp_Pi_Pdi \"\"\""
   ]
  },
  {
   "cell_type": "code",
   "execution_count": 0,
   "metadata": {
    "application/vnd.databricks.v1+cell": {
     "cellMetadata": {
      "byteLimit": 2048000,
      "rowLimit": 10000
     },
     "inputWidgets": {},
     "nuid": "4c636db7-205a-4e16-8ae0-0844e312d156",
     "showTitle": false,
     "tableResultSettingsMap": {},
     "title": ""
    }
   },
   "outputs": [
    {
     "output_type": "stream",
     "name": "stdout",
     "output_type": "stream",
     "text": [
      "sql_safe: query ->  DROP TABLE IF EXISTS dsr_plt_bcitemp_db.Tmp_Pi_Pdi \n"
     ]
    },
    {
     "output_type": "execute_result",
     "data": {
      "text/plain": [
       "DataFrame[]"
      ]
     },
     "execution_count": 11,
     "metadata": {},
     "output_type": "execute_result"
    }
   ],
   "source": [
    "sql_safe(drop_tmp_003_Tmp_Pi_Pdi)"
   ]
  },
  {
   "cell_type": "code",
   "execution_count": 0,
   "metadata": {
    "application/vnd.databricks.v1+cell": {
     "cellMetadata": {
      "byteLimit": 2048000,
      "rowLimit": 10000
     },
     "inputWidgets": {},
     "nuid": "9deff307-9565-415e-bb12-b9517cf964cc",
     "showTitle": false,
     "tableResultSettingsMap": {},
     "title": ""
    }
   },
   "outputs": [
    {
     "output_type": "execute_result",
     "data": {
      "text/plain": [
       "True"
      ]
     },
     "execution_count": 12,
     "metadata": {},
     "output_type": "execute_result"
    }
   ],
   "source": [
    "dbutils.fs.rm(db_location_platinum_tempX+\"Tmp_Pi_Pdi\", True)"
   ]
  },
  {
   "cell_type": "code",
   "execution_count": 0,
   "metadata": {
    "application/vnd.databricks.v1+cell": {
     "cellMetadata": {
      "byteLimit": 2048000,
      "implicitDf": true,
      "rowLimit": 10000
     },
     "inputWidgets": {},
     "nuid": "22a6ce4c-d88a-4d23-ac5b-045c5221e89c",
     "showTitle": false,
     "tableResultSettingsMap": {},
     "title": ""
    }
   },
   "outputs": [],
   "source": [
    "create_tmp_003_Tmp_Pi_Pdi = \"\"\" CREATE TABLE IF NOT EXISTS \"\"\" + platinum_temp_dbX + \"\"\".Tmp_Pi_Pdi \n",
    "USING DELTA\n",
    "PARTITIONED BY (dpf_fec_proceso)\n",
    "LOCATION '\"\"\" + db_location_platinum_tempX + \"\"\"Tmp_Pi_Pdi'\n",
    "AS (\n",
    "select \n",
    "dpf_fec_proceso\n",
    ",cli_idc\n",
    ",cli_vrt\n",
    ",cli_rzn_soc\n",
    ",ddr_idc\n",
    ",ddr_vrt\n",
    ",ddr_rzn_soc\n",
    ",pdt_des_cra\n",
    ",doc_num_documento\n",
    ",doc_num_cuota\n",
    ",IFNULL(Deuda_TotalIFRS, 0) AS Deuda_TotalIFRS\n",
    ",dod_cod_cobranza\n",
    ",cod_aec\n",
    ",dpf_ind_responsabilidad\n",
    ",dpf_fec_vencimiento\n",
    ",Clasificacion\n",
    ",dod_ind_cartera\n",
    ",Clasificacion_Cliente\n",
    ",Clasificacion_Deudor\n",
    ",Dias_Mora\n",
    ",doc_num_operacion\n",
    ",doc_id_documento\n",
    ",doc_ind_fin_mes\n",
    ",dpf_pct_pi\n",
    ",dpf_pct_pdi\n",
    ",dpf_mto_pe\n",
    ",cli_rut\n",
    ",Responsabilidad_CedenteFactoring\n",
    ",Tipo_Prestamo\n",
    ",Periodo_Id\n",
    ",Ind_Castigo\n",
    ",Colo_EsCardetIrr\n",
    ",Cod_niid\n",
    ",Calif_Deudor_Permitida\n",
    ",CASE WHEN Dias_Mora=0 and Colo_EsCardetIrr=0 then 0.0491\n",
    "WHEN Dias_Mora>=1 and Dias_Mora<=29 and Colo_EsCardetIrr=0 then 0.2293\n",
    "WHEN Dias_Mora>=30 and Dias_Mora<=59 and Colo_EsCardetIrr=0 then 0.4530\n",
    "WHEN Dias_Mora>=60 and Dias_Mora<=89 and Colo_EsCardetIrr=0 then 0.6163\n",
    "ELSE 1 END AS PI\n",
    ",0.359 as PDI\n",
    "from \"\"\"+platinum_temp_dbX+\"\"\".Tmp_CardetIrr\n",
    "where Responsabilidad_CedenteFactoring=1\n",
    ")\n",
    "\"\"\""
   ]
  },
  {
   "cell_type": "code",
   "execution_count": 0,
   "metadata": {
    "application/vnd.databricks.v1+cell": {
     "cellMetadata": {
      "byteLimit": 2048000,
      "rowLimit": 10000
     },
     "inputWidgets": {},
     "nuid": "8c881865-1c0b-4592-aa3c-91c7f8c14655",
     "showTitle": false,
     "tableResultSettingsMap": {},
     "title": ""
    }
   },
   "outputs": [
    {
     "output_type": "stream",
     "name": "stdout",
     "output_type": "stream",
     "text": [
      "sql_safe: query ->  CREATE TABLE IF NOT EXISTS dsr_plt_bcitemp_db.Tmp_Pi_Pdi \nUSING DELTA\nPARTITIONED BY (dpf_fec_proceso)\nLOCATION 'abfss://platinum@bcirg2dlssbx.dfs.core.windows.net/plt_normativo_db/prv_hip/Tmp_Pi_Pdi'\nAS (\nselect \ndpf_fec_proceso\n,cli_idc\n,cli_vrt\n,cli_rzn_soc\n,ddr_idc\n,ddr_vrt\n,ddr_rzn_soc\n,pdt_des_cra\n,doc_num_documento\n,doc_num_cuota\n,IFNULL(Deuda_TotalIFRS, 0) AS Deuda_TotalIFRS\n,dod_cod_cobranza\n,cod_aec\n,dpf_ind_responsabilidad\n,dpf_fec_vencimiento\n,Clasificacion\n,dod_ind_cartera\n,Clasificacion_Cliente\n,Clasificacion_Deudor\n,Dias_Mora\n,doc_num_operacion\n,doc_id_documento\n,doc_ind_fin_mes\n,dpf_pct_pi\n,dpf_pct_pdi\n,dpf_mto_pe\n,cli_rut\n,Responsabilidad_CedenteFactoring\n,Tipo_Prestamo\n,Periodo_Id\n,Ind_Castigo\n,Colo_EsCardetIrr\n,Cod_niid\n,Calif_Deudor_Permitida\n,CASE WHEN Dias_Mora=0 and Colo_EsCardetIrr=0 then 0.0491\nWHEN Dias_Mora>=1 and Dias_Mora<=29 and Colo_EsCardetIrr=0 then 0.2293\nWHEN Dias_Mora>=30 and Dias_Mora<=59 and Colo_EsCardetIrr=0 then 0.4530\nWHEN Dias_Mora>=60 and Dias_Mora<=89 and Colo_EsCardetIrr=0 then 0.6163\nELSE 1 END AS PI\n,0.359 as PDI\nfrom dsr_plt_bcitemp_db.Tmp_CardetIrr\nwhere Responsabilidad_CedenteFactoring=1\n)\n\n"
     ]
    },
    {
     "output_type": "execute_result",
     "data": {
      "text/plain": [
       "DataFrame[num_affected_rows: bigint, num_inserted_rows: bigint]"
      ]
     },
     "execution_count": 14,
     "metadata": {},
     "output_type": "execute_result"
    }
   ],
   "source": [
    "sql_safe(create_tmp_003_Tmp_Pi_Pdi)"
   ]
  },
  {
   "cell_type": "code",
   "execution_count": 0,
   "metadata": {
    "application/vnd.databricks.v1+cell": {
     "cellMetadata": {
      "byteLimit": 2048000,
      "implicitDf": true,
      "rowLimit": 10000
     },
     "inputWidgets": {},
     "nuid": "bb508e4e-9f1e-43e9-93e2-e0428b3957db",
     "showTitle": false,
     "tableResultSettingsMap": {},
     "title": ""
    }
   },
   "outputs": [],
   "source": [
    "insert_001_Tmp_Pi_Pdi = \"\"\" INSERT INTO \"\"\" + platinum_temp_dbX + \"\"\".Tmp_Pi_Pdi \n",
    "select \n",
    "dpf_fec_proceso\n",
    ",cli_idc\n",
    ",cli_vrt\n",
    ",cli_rzn_soc\n",
    ",ddr_idc\n",
    ",ddr_vrt\n",
    ",ddr_rzn_soc\n",
    ",pdt_des_cra\n",
    ",doc_num_documento\n",
    ",doc_num_cuota\n",
    ",IFNULL(Deuda_TotalIFRS, 0) AS Deuda_TotalIFRS\n",
    ",dod_cod_cobranza\n",
    ",cod_aec\n",
    ",dpf_ind_responsabilidad\n",
    ",dpf_fec_vencimiento\n",
    ",Clasificacion\n",
    ",dod_ind_cartera\n",
    ",Clasificacion_Cliente\n",
    ",Clasificacion_Deudor\n",
    ",Dias_Mora\n",
    ",doc_num_operacion\n",
    ",doc_id_documento\n",
    ",doc_ind_fin_mes\n",
    ",dpf_pct_pi\n",
    ",dpf_pct_pdi\n",
    ",dpf_mto_pe\n",
    ",cli_rut\n",
    ",Responsabilidad_CedenteFactoring\n",
    ",Tipo_Prestamo\n",
    ",Periodo_Id\n",
    ",Ind_Castigo\n",
    ",Colo_EsCardetIrr\n",
    ",Cod_niid\n",
    ",Calif_Deudor_Permitida\n",
    ",CASE WHEN Dias_Mora=0 and Colo_EsCardetIrr=0 then 0.0491\n",
    "WHEN Dias_Mora>=1 and Dias_Mora<=29 and Colo_EsCardetIrr=0 then 0.2293\n",
    "WHEN Dias_Mora>=30 and Dias_Mora<=59 and Colo_EsCardetIrr=0 then 0.4530\n",
    "WHEN Dias_Mora>=60 and Dias_Mora<=89 and Colo_EsCardetIrr=0 then 0.6163\n",
    "ELSE 1 END AS PI\n",
    ",0.569 AS PDI\n",
    "from \"\"\"+platinum_temp_dbX+\"\"\".Tmp_CardetIrr\n",
    "where Responsabilidad_CedenteFactoring=0\n",
    "\"\"\""
   ]
  },
  {
   "cell_type": "code",
   "execution_count": 0,
   "metadata": {
    "application/vnd.databricks.v1+cell": {
     "cellMetadata": {
      "byteLimit": 2048000,
      "rowLimit": 10000
     },
     "inputWidgets": {},
     "nuid": "0d239ca3-00c9-49f8-beda-5da180fe8a17",
     "showTitle": false,
     "tableResultSettingsMap": {},
     "title": ""
    }
   },
   "outputs": [
    {
     "output_type": "stream",
     "name": "stdout",
     "output_type": "stream",
     "text": [
      "sql_safe: query ->  INSERT INTO dsr_plt_bcitemp_db.Tmp_Pi_Pdi \nselect \ndpf_fec_proceso\n,cli_idc\n,cli_vrt\n,cli_rzn_soc\n,ddr_idc\n,ddr_vrt\n,ddr_rzn_soc\n,pdt_des_cra\n,doc_num_documento\n,doc_num_cuota\n,IFNULL(Deuda_TotalIFRS, 0) AS Deuda_TotalIFRS\n,dod_cod_cobranza\n,cod_aec\n,dpf_ind_responsabilidad\n,dpf_fec_vencimiento\n,Clasificacion\n,dod_ind_cartera\n,Clasificacion_Cliente\n,Clasificacion_Deudor\n,Dias_Mora\n,doc_num_operacion\n,doc_id_documento\n,doc_ind_fin_mes\n,dpf_pct_pi\n,dpf_pct_pdi\n,dpf_mto_pe\n,cli_rut\n,Responsabilidad_CedenteFactoring\n,Tipo_Prestamo\n,Periodo_Id\n,Ind_Castigo\n,Colo_EsCardetIrr\n,Cod_niid\n,Calif_Deudor_Permitida\n,CASE WHEN Dias_Mora=0 and Colo_EsCardetIrr=0 then 0.0491\nWHEN Dias_Mora>=1 and Dias_Mora<=29 and Colo_EsCardetIrr=0 then 0.2293\nWHEN Dias_Mora>=30 and Dias_Mora<=59 and Colo_EsCardetIrr=0 then 0.4530\nWHEN Dias_Mora>=60 and Dias_Mora<=89 and Colo_EsCardetIrr=0 then 0.6163\nELSE 1 END AS PI\n,0.569 AS PDI\nfrom dsr_plt_bcitemp_db.Tmp_CardetIrr\nwhere Responsabilidad_CedenteFactoring=0\n\n"
     ]
    },
    {
     "output_type": "execute_result",
     "data": {
      "text/plain": [
       "DataFrame[num_affected_rows: bigint, num_inserted_rows: bigint]"
      ]
     },
     "execution_count": 16,
     "metadata": {},
     "output_type": "execute_result"
    }
   ],
   "source": [
    "sql_safe(insert_001_Tmp_Pi_Pdi)"
   ]
  },
  {
   "cell_type": "markdown",
   "metadata": {
    "application/vnd.databricks.v1+cell": {
     "cellMetadata": {
      "byteLimit": 2048000,
      "rowLimit": 10000
     },
     "inputWidgets": {},
     "nuid": "283480f7-9c53-4f9a-964d-bc4b958af47c",
     "showTitle": false,
     "tableResultSettingsMap": {},
     "title": ""
    }
   },
   "source": [
    "## Mensaje Final"
   ]
  },
  {
   "cell_type": "code",
   "execution_count": 0,
   "metadata": {
    "application/vnd.databricks.v1+cell": {
     "cellMetadata": {
      "byteLimit": 2048000,
      "rowLimit": 10000
     },
     "inputWidgets": {},
     "nuid": "f97be6a1-751d-4670-925c-5061485928c7",
     "showTitle": false,
     "tableResultSettingsMap": {},
     "title": ""
    }
   },
   "outputs": [],
   "source": [
    "dbutils.notebook.exit(\"{\\\"coderror\\\":\\\"0\\\", \\\"msgerror\\\":\\\"Notebook termina ejecucion satisfactoriamente\\\"}\")"
   ]
  }
 ],
 "metadata": {
  "application/vnd.databricks.v1+notebook": {
   "computePreferences": null,
   "dashboards": [],
   "environmentMetadata": {
    "base_environment": "",
    "environment_version": "2"
   },
   "inputWidgetPreferences": null,
   "language": "python",
   "notebookMetadata": {
    "mostRecentlyExecutedCommandWithImplicitDF": {
     "commandId": 7300217550432669,
     "dataframes": [
      "_sqldf"
     ]
    },
    "pythonIndentUnit": 2
   },
   "notebookName": "BCI_003_Matriz_Comercial_B1_Factoring",
   "widgets": {
    "db_location_platinum_tempW": {
     "currentValue": "abfss://platinum@bcirg2dlssbx.dfs.core.windows.net/plt_normativo_db/prv_hip/",
     "nuid": "43615338-2805-4e30-9ca3-63d098b8e062",
     "typedWidgetInfo": {
      "autoCreated": false,
      "defaultValue": "",
      "label": "03 Location DB Platinum Temp:",
      "name": "db_location_platinum_tempW",
      "options": {
       "widgetDisplayType": "Text",
       "validationRegex": null
      },
      "parameterDataType": "String"
     },
     "widgetInfo": {
      "widgetType": "text",
      "defaultValue": "",
      "label": "03 Location DB Platinum Temp:",
      "name": "db_location_platinum_tempW",
      "options": {
       "widgetType": "text",
       "autoCreated": null,
       "validationRegex": null
      }
     }
    },
    "fechaProcesoW": {
     "currentValue": "20250530",
     "nuid": "7919e366-6217-40f7-ac26-511cde6d2fa7",
     "typedWidgetInfo": {
      "autoCreated": false,
      "defaultValue": "",
      "label": "01 Fecha Proceso :",
      "name": "fechaProcesoW",
      "options": {
       "widgetDisplayType": "Text",
       "validationRegex": null
      },
      "parameterDataType": "String"
     },
     "widgetInfo": {
      "widgetType": "text",
      "defaultValue": "",
      "label": "01 Fecha Proceso :",
      "name": "fechaProcesoW",
      "options": {
       "widgetType": "text",
       "autoCreated": null,
       "validationRegex": null
      }
     }
    },
    "platinum_temp_dbW": {
     "currentValue": "dsr_plt_bcitemp_db",
     "nuid": "03cf69ee-58b7-4ca1-a9fc-3f892671f872",
     "typedWidgetInfo": {
      "autoCreated": false,
      "defaultValue": "",
      "label": "02 platinum temp db:",
      "name": "platinum_temp_dbW",
      "options": {
       "widgetDisplayType": "Text",
       "validationRegex": null
      },
      "parameterDataType": "String"
     },
     "widgetInfo": {
      "widgetType": "text",
      "defaultValue": "",
      "label": "02 platinum temp db:",
      "name": "platinum_temp_dbW",
      "options": {
       "widgetType": "text",
       "autoCreated": null,
       "validationRegex": null
      }
     }
    }
   }
  },
  "language_info": {
   "name": "python"
  }
 },
 "nbformat": 4,
 "nbformat_minor": 0
}