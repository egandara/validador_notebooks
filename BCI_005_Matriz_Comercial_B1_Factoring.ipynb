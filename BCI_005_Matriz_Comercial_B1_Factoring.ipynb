{
 "cells": [
  {
   "cell_type": "markdown",
   "metadata": {
    "application/vnd.databricks.v1+cell": {
     "cellMetadata": {
      "byteLimit": 2048000,
      "rowLimit": 10000
     },
     "inputWidgets": {},
     "nuid": "f4352a4e-f4c7-4310-a21b-ae671f4bd5db",
     "showTitle": false,
     "tableResultSettingsMap": {},
     "title": ""
    }
   },
   "source": [
    "# BCI_005_Matriz_Comercial_B1_Factoring"
   ]
  },
  {
   "cell_type": "markdown",
   "metadata": {
    "application/vnd.databricks.v1+cell": {
     "cellMetadata": {
      "byteLimit": 2048000,
      "rowLimit": 10000
     },
     "inputWidgets": {},
     "nuid": "1fd3a4aa-a9e2-4bbe-9168-929532d27439",
     "showTitle": false,
     "tableResultSettingsMap": {},
     "title": ""
    }
   },
   "source": [
    "## Información del Notebook"
   ]
  },
  {
   "cell_type": "markdown",
   "metadata": {
    "application/vnd.databricks.v1+cell": {
     "cellMetadata": {
      "byteLimit": 2048000,
      "rowLimit": 10000
     },
     "inputWidgets": {},
     "nuid": "78fb6037-6b71-49c3-b83d-1bc8e03813ca",
     "showTitle": false,
     "tableResultSettingsMap": {},
     "title": ""
    }
   },
   "source": [
    "### Encabezado\n",
    "**************************************************************************\n",
    "* Nombre: \n",
    "* Ruta: \n",
    "* Autor: Esteban Gándara\n",
    "* Ing. Rafael Montecinos - rafael.montecinost@bci.cl\n",
    "* Fecha: 19/05/2025\n",
    "* Descripción: \n",
    "* Documentación: \n",
    "***************************************************************************"
   ]
  },
  {
   "cell_type": "markdown",
   "metadata": {
    "application/vnd.databricks.v1+cell": {
     "cellMetadata": {
      "byteLimit": 2048000,
      "rowLimit": 10000
     },
     "inputWidgets": {},
     "nuid": "4bc27ba2-ac12-4b3a-9afe-22fd3cdbbc67",
     "showTitle": false,
     "tableResultSettingsMap": {},
     "title": ""
    }
   },
   "source": [
    "### Mantenciones\n",
    "**************************************************************************\n",
    "#### Mantención Nro: \n",
    "* Autor: <Nombre Autor> (<Empresa del Autor (Bci/Otra)>) - Ing. SW BCI: <Nombre Ing. SW BCI>\n",
    "* Fecha: <dd/mm/yyyy> \n",
    "* Descripción: <Descripción de la mantención>      \n",
    "************************************************"
   ]
  },
  {
   "cell_type": "markdown",
   "metadata": {
    "application/vnd.databricks.v1+cell": {
     "cellMetadata": {
      "byteLimit": 2048000,
      "rowLimit": 10000
     },
     "inputWidgets": {},
     "nuid": "caca1b06-42cb-404a-a54c-130594c7d0c3",
     "showTitle": false,
     "tableResultSettingsMap": {},
     "title": ""
    }
   },
   "source": [
    "### Tablas Entrada y Salida\n",
    "**************************************************************************\n",
    "#### Tablas Entrada: \n",
    "* \n",
    "* \n",
    "***************************************************************************\n",
    "#### Tablas Salida: \n",
    "* "
   ]
  },
  {
   "cell_type": "markdown",
   "metadata": {
    "application/vnd.databricks.v1+cell": {
     "cellMetadata": {
      "byteLimit": 2048000,
      "rowLimit": 10000
     },
     "inputWidgets": {},
     "nuid": "74185635-8a77-4fb4-bb8b-6eeaa351fe81",
     "showTitle": false,
     "tableResultSettingsMap": {},
     "title": ""
    }
   },
   "source": [
    "## Captura de Variables"
   ]
  },
  {
   "cell_type": "code",
   "execution_count": 0,
   "metadata": {
    "application/vnd.databricks.v1+cell": {
     "cellMetadata": {
      "byteLimit": 2048000,
      "rowLimit": 10000
     },
     "inputWidgets": {},
     "nuid": "3943d14d-8ac5-4b77-ae0d-b45bb734812f",
     "showTitle": false,
     "tableResultSettingsMap": {},
     "title": ""
    }
   },
   "outputs": [],
   "source": [
    "dbutils.widgets.removeAll()\n",
    "dbutils.widgets.text(\"fechaProcesoW\",\"\",\"01 Fecha Proceso :\")\n",
    "dbutils.widgets.text(\"platinum_temp_dbW\",\"\",\"02 platinum temp db:\")\n",
    "dbutils.widgets.text(\"db_location_platinum_tempW\",\"\",\"03 Location DB Platinum Temp:\")"
   ]
  },
  {
   "cell_type": "markdown",
   "metadata": {
    "application/vnd.databricks.v1+cell": {
     "cellMetadata": {
      "byteLimit": 2048000,
      "rowLimit": 10000
     },
     "inputWidgets": {},
     "nuid": "78a06e10-f276-4d30-a5ce-16a92c3fa7a3",
     "showTitle": false,
     "tableResultSettingsMap": {},
     "title": ""
    }
   },
   "source": [
    "### Asignar Objeto a Lectura de Widgets y Variables"
   ]
  },
  {
   "cell_type": "code",
   "execution_count": 0,
   "metadata": {
    "application/vnd.databricks.v1+cell": {
     "cellMetadata": {
      "byteLimit": 2048000,
      "rowLimit": 10000
     },
     "inputWidgets": {},
     "nuid": "e04238c7-091d-4820-86e6-23c23f7937d0",
     "showTitle": false,
     "tableResultSettingsMap": {},
     "title": ""
    }
   },
   "outputs": [
    {
     "output_type": "stream",
     "name": "stdout",
     "output_type": "stream",
     "text": [
      "*****Parámetros*****\nfechaProcesoX: 20250530\nplatinum_temp_dbX: dsr_plt_bcitemp_db\ndb_location_platinum_tempX: abfss://platinum@bcirg2dlssbx.dfs.core.windows.net/plt_normativo_db/prv_hip/\n"
     ]
    }
   ],
   "source": [
    "fechaProcesoX = dbutils.widgets.get(\"fechaProcesoW\")\n",
    "spark.conf.set(\"bci.fechaProcesoX\", fechaProcesoX)\n",
    "\n",
    "platinum_temp_dbX = dbutils.widgets.get(\"platinum_temp_dbW\")\n",
    "spark.conf.set(\"bci.platinum_temp_dbX\", platinum_temp_dbX)\n",
    "\n",
    "db_location_platinum_tempX = dbutils.widgets.get(\"db_location_platinum_tempW\")\n",
    "spark.conf.set(\"bci.db_location_platinum_tempX\", db_location_platinum_tempX)\n",
    "\n",
    "print(\"*****Parámetros*****\")\n",
    "print(\"fechaProcesoX: \" + fechaProcesoX)\n",
    "print(\"platinum_temp_dbX: \" + platinum_temp_dbX)\n",
    "print(\"db_location_platinum_tempX: \" + db_location_platinum_tempX)"
   ]
  },
  {
   "cell_type": "markdown",
   "metadata": {
    "application/vnd.databricks.v1+cell": {
     "cellMetadata": {
      "byteLimit": 2048000,
      "rowLimit": 10000
     },
     "inputWidgets": {},
     "nuid": "e8a3825a-48e8-4e01-8774-c12b73bb1cca",
     "showTitle": false,
     "tableResultSettingsMap": {},
     "title": ""
    }
   },
   "source": [
    "### Librerías"
   ]
  },
  {
   "cell_type": "code",
   "execution_count": 0,
   "metadata": {
    "application/vnd.databricks.v1+cell": {
     "cellMetadata": {
      "byteLimit": 2048000,
      "rowLimit": 10000
     },
     "inputWidgets": {},
     "nuid": "25e192fc-ceb5-4d4e-b5c6-6575fc3267c9",
     "showTitle": false,
     "tableResultSettingsMap": {},
     "title": ""
    }
   },
   "outputs": [],
   "source": [
    "import json\n",
    "from datetime import datetime, date, time, timedelta\n",
    "from dateutil.relativedelta import relativedelta\n",
    "\n",
    "# Obtener fecha actual\n",
    "current_date_str = datetime.now().strftime(\"%Y-%m-%d\")\n",
    "current_date = datetime.strptime(current_date_str, \"%Y-%m-%d\")\n",
    "formatted_date = str(current_date.strftime(\"%Y%m%d\"))"
   ]
  },
  {
   "cell_type": "markdown",
   "metadata": {
    "application/vnd.databricks.v1+cell": {
     "cellMetadata": {
      "byteLimit": 2048000,
      "rowLimit": 10000
     },
     "inputWidgets": {},
     "nuid": "03eb81fd-f82d-4906-8b44-eefb3087b33f",
     "showTitle": false,
     "tableResultSettingsMap": {},
     "title": ""
    }
   },
   "source": [
    "###Asigan Variables de fecha"
   ]
  },
  {
   "cell_type": "code",
   "execution_count": 0,
   "metadata": {
    "application/vnd.databricks.v1+cell": {
     "cellMetadata": {
      "byteLimit": 2048000,
      "rowLimit": 10000
     },
     "inputWidgets": {},
     "nuid": "adaf39c0-efcc-48f7-9683-b9cab818dadb",
     "showTitle": false,
     "tableResultSettingsMap": {},
     "title": ""
    }
   },
   "outputs": [
    {
     "output_type": "stream",
     "name": "stdout",
     "output_type": "stream",
     "text": [
      "fecha_Formato1: 2025\nfecha_Formato2: 05\nfecha_Formato3: 30\nfecha_Formato4: 2025-05-30\nfecha_Formato5: 30-05-2025\nfecha_Formato6: 202505\nfecha_Formato7: 20250530\nfecha_formato8: 2025/05/30\nfecha_formato9: 2025-05-01\n"
     ]
    }
   ],
   "source": [
    "ano = str(fechaProcesoX)[:4]\n",
    "mes = str(fechaProcesoX)[4:][:2]\n",
    "dia = str(fechaProcesoX)[6:][:2]\n",
    "fechanormativo = str(ano+'-'+mes+'-'+dia)\n",
    "fechacinta = str(dia+'-'+mes+'-'+ano)\n",
    "anomes = str(ano+mes)\n",
    "anomesdia = str(ano+mes+dia)\n",
    "anomesdia2 = str(ano+'/'+mes+'/'+dia)\n",
    "anomesdia3 = str(ano+'-'+mes+'-'+'01')\n",
    "\n",
    "\n",
    "print(\"fecha_Formato1: \" + ano)\n",
    "print(\"fecha_Formato2: \" + mes)\n",
    "print(\"fecha_Formato3: \" + dia)\n",
    "print(\"fecha_Formato4: \" + fechanormativo)\n",
    "print(\"fecha_Formato5: \" + fechacinta)\n",
    "print(\"fecha_Formato6: \" + anomes)\n",
    "print(\"fecha_Formato7: \" + anomesdia)\n",
    "print(\"fecha_formato8: \" + anomesdia2)\n",
    "print(\"fecha_formato9: \" + anomesdia3)"
   ]
  },
  {
   "cell_type": "markdown",
   "metadata": {
    "application/vnd.databricks.v1+cell": {
     "cellMetadata": {
      "byteLimit": 2048000,
      "rowLimit": 10000
     },
     "inputWidgets": {},
     "nuid": "6a709862-2df7-418c-8bf1-9bdcdbcbfd7c",
     "showTitle": false,
     "tableResultSettingsMap": {},
     "title": ""
    }
   },
   "source": [
    "## Funciones"
   ]
  },
  {
   "cell_type": "code",
   "execution_count": 0,
   "metadata": {
    "application/vnd.databricks.v1+cell": {
     "cellMetadata": {
      "byteLimit": 2048000,
      "rowLimit": 10000
     },
     "inputWidgets": {},
     "nuid": "7ae6f089-b763-462f-b7a6-e7974cf9a04e",
     "showTitle": false,
     "tableResultSettingsMap": {},
     "title": ""
    }
   },
   "outputs": [
    {
     "output_type": "display_data",
     "data": {
      "text/markdown": [
       "Fecha vacía"
      ]
     },
     "metadata": {},
     "output_type": "display_data"
    },
    {
     "output_type": "display_data",
     "data": {
      "text/markdown": [
       "Fecha futura"
      ]
     },
     "metadata": {},
     "output_type": "display_data"
    }
   ],
   "source": [
    "%run \"./Funciones\""
   ]
  },
  {
   "cell_type": "markdown",
   "metadata": {
    "application/vnd.databricks.v1+cell": {
     "cellMetadata": {
      "byteLimit": 2048000,
      "rowLimit": 10000
     },
     "inputWidgets": {},
     "nuid": "07f11dc0-0ec9-4cef-83cf-144889c9797e",
     "showTitle": false,
     "tableResultSettingsMap": {},
     "title": ""
    }
   },
   "source": [
    "## Validaciones"
   ]
  },
  {
   "cell_type": "markdown",
   "metadata": {
    "application/vnd.databricks.v1+cell": {
     "cellMetadata": {
      "byteLimit": 2048000,
      "rowLimit": 10000
     },
     "inputWidgets": {},
     "nuid": "c0084792-6fa5-48a0-8815-b3913c40c3d1",
     "showTitle": false,
     "tableResultSettingsMap": {},
     "title": ""
    }
   },
   "source": [
    "### Fecha vacía"
   ]
  },
  {
   "cell_type": "code",
   "execution_count": 0,
   "metadata": {
    "application/vnd.databricks.v1+cell": {
     "cellMetadata": {
      "byteLimit": 2048000,
      "rowLimit": 10000
     },
     "inputWidgets": {},
     "nuid": "8376be7d-0589-4097-9425-7d05eeb39008",
     "showTitle": false,
     "tableResultSettingsMap": {},
     "title": ""
    }
   },
   "outputs": [],
   "source": [
    "fecha_vacia(fechaProcesoX)"
   ]
  },
  {
   "cell_type": "markdown",
   "metadata": {
    "application/vnd.databricks.v1+cell": {
     "cellMetadata": {
      "byteLimit": 2048000,
      "rowLimit": 10000
     },
     "inputWidgets": {},
     "nuid": "776655f8-19c8-4e72-939c-173ba642fd57",
     "showTitle": false,
     "tableResultSettingsMap": {},
     "title": ""
    }
   },
   "source": [
    "### Fecha futura"
   ]
  },
  {
   "cell_type": "code",
   "execution_count": 0,
   "metadata": {
    "application/vnd.databricks.v1+cell": {
     "cellMetadata": {
      "byteLimit": 2048000,
      "rowLimit": 10000
     },
     "inputWidgets": {},
     "nuid": "e0a16dee-3428-41ce-9e8c-a5282150650b",
     "showTitle": false,
     "tableResultSettingsMap": {},
     "title": ""
    }
   },
   "outputs": [],
   "source": [
    "fecha_futura(fechaProcesoX)"
   ]
  },
  {
   "cell_type": "markdown",
   "metadata": {
    "application/vnd.databricks.v1+cell": {
     "cellMetadata": {
      "byteLimit": 2048000,
      "rowLimit": 10000
     },
     "inputWidgets": {},
     "nuid": "15f878d9-1115-43ac-af7f-d1996b8c491d",
     "showTitle": false,
     "tableResultSettingsMap": {},
     "title": ""
    }
   },
   "source": [
    "## Inicio de Lógica"
   ]
  },
  {
   "cell_type": "markdown",
   "metadata": {
    "application/vnd.databricks.v1+cell": {
     "cellMetadata": {
      "byteLimit": 2048000,
      "rowLimit": 10000
     },
     "inputWidgets": {},
     "nuid": "980592aa-53bb-4e01-a90a-ff6aa0583fba",
     "showTitle": false,
     "tableResultSettingsMap": {},
     "title": ""
    }
   },
   "source": [
    "### Creación de tablas temporales que se eliminarán al final de la ejecución\n",
    "\n",
    "**************************************************************************"
   ]
  },
  {
   "cell_type": "markdown",
   "metadata": {
    "application/vnd.databricks.v1+cell": {
     "cellMetadata": {
      "byteLimit": 2048000,
      "rowLimit": 10000
     },
     "inputWidgets": {},
     "nuid": "4bfaa39b-6a29-4293-aab1-1bdac926ed4c",
     "showTitle": false,
     "tableResultSettingsMap": {},
     "title": ""
    }
   },
   "source": [
    "#### Prov_Gr_Com_Fact_B1_Result_0719"
   ]
  },
  {
   "cell_type": "code",
   "execution_count": 0,
   "metadata": {
    "application/vnd.databricks.v1+cell": {
     "cellMetadata": {
      "byteLimit": 2048000,
      "rowLimit": 10000
     },
     "inputWidgets": {},
     "nuid": "4cb7545e-72dc-47b4-a6c9-804a66a6aabf",
     "showTitle": false,
     "tableResultSettingsMap": {},
     "title": ""
    }
   },
   "outputs": [],
   "source": [
    "drop_tmp_008_Tmp_Prov_Gr_Com_Fact_B1_Result_0719 = \"\"\" DROP TABLE IF EXISTS \"\"\" + platinum_temp_dbX + \"\"\".Tmp_Prov_Gr_Com_Fact_B1_Result_0719 \"\"\""
   ]
  },
  {
   "cell_type": "code",
   "execution_count": 0,
   "metadata": {
    "application/vnd.databricks.v1+cell": {
     "cellMetadata": {
      "byteLimit": 2048000,
      "rowLimit": 10000
     },
     "inputWidgets": {},
     "nuid": "7444bed6-2c2c-4001-b97d-cdf68a34477e",
     "showTitle": false,
     "tableResultSettingsMap": {},
     "title": ""
    }
   },
   "outputs": [
    {
     "output_type": "stream",
     "name": "stdout",
     "output_type": "stream",
     "text": [
      "sql_safe: query ->  DROP TABLE IF EXISTS dsr_plt_bcitemp_db.Tmp_Prov_Gr_Com_Fact_B1_Result_0719 \n"
     ]
    },
    {
     "output_type": "execute_result",
     "data": {
      "text/plain": [
       "DataFrame[]"
      ]
     },
     "execution_count": 29,
     "metadata": {},
     "output_type": "execute_result"
    }
   ],
   "source": [
    "sql_safe(drop_tmp_008_Tmp_Prov_Gr_Com_Fact_B1_Result_0719)"
   ]
  },
  {
   "cell_type": "code",
   "execution_count": 0,
   "metadata": {
    "application/vnd.databricks.v1+cell": {
     "cellMetadata": {
      "byteLimit": 2048000,
      "rowLimit": 10000
     },
     "inputWidgets": {},
     "nuid": "57fd43eb-451f-4764-aae8-163d29a26f21",
     "showTitle": false,
     "tableResultSettingsMap": {},
     "title": ""
    }
   },
   "outputs": [
    {
     "output_type": "execute_result",
     "data": {
      "text/plain": [
       "True"
      ]
     },
     "execution_count": 30,
     "metadata": {},
     "output_type": "execute_result"
    }
   ],
   "source": [
    "dbutils.fs.rm(db_location_platinum_tempX+\"Tmp_Prov_Gr_Com_Fact_B1_Result_0719\", True)"
   ]
  },
  {
   "cell_type": "code",
   "execution_count": 0,
   "metadata": {
    "application/vnd.databricks.v1+cell": {
     "cellMetadata": {
      "byteLimit": 2048000,
      "rowLimit": 10000
     },
     "inputWidgets": {},
     "nuid": "37ecb56f-b94c-4c76-94d2-0604e53edc99",
     "showTitle": false,
     "tableResultSettingsMap": {},
     "title": ""
    }
   },
   "outputs": [],
   "source": [
    "create_tmp_008_Tmp_Prov_Gr_Com_Fact_B1_Result_0719 = \"\"\" CREATE TABLE IF NOT EXISTS \"\"\" + platinum_temp_dbX + \"\"\".Tmp_Prov_Gr_Com_Fact_B1_Result_0719 \n",
    "USING DELTA\n",
    "PARTITIONED BY (periodo)\n",
    "LOCATION '\"\"\" + db_location_platinum_tempX + \"\"\"Tmp_Prov_Gr_Com_Fact_B1_Result_0719'\n",
    "AS (\n",
    "select \n",
    "Cod_niid AS ope_num\n",
    "--,dpf_fec_proceso\n",
    ",cli_idc as rut\n",
    ",cli_vrt as dv\n",
    "--,cli_rzn_soc\n",
    ",ddr_idc as rut_deudor_fact\n",
    ",ddr_vrt as dv_deudor_fact\n",
    "--,ddr_rzn_soc\n",
    "--,pdt_des_cra\n",
    ",doc_num_documento\n",
    "--,doc_num_cuota\n",
    ",Deuda_TotalIFRS\n",
    "--,dod_cod_cobranza\n",
    "--,cod_aec\n",
    "--,dpf_ind_responsabilidad\n",
    "--,dpf_fec_vencimiento\n",
    ",Clasificacion as seg_n2\n",
    "--,dod_ind_cartera\n",
    "--,Clasificacion_Cliente\n",
    ",Clasificacion_Deudor as Clasificacion_Deudor_fact\n",
    ",Dias_Mora\n",
    ",CASE WHEN Dias_Mora=0 and Colo_EsCardetIrr=0 then \"0\"\n",
    "WHEN Dias_Mora>=1 and Dias_Mora<=29 and Colo_EsCardetIrr=0 then \"1-29\"\n",
    "WHEN Dias_Mora>=30 and Dias_Mora<=59 and Colo_EsCardetIrr=0 then \"30-59\"\n",
    "WHEN Dias_Mora>=60 and Dias_Mora<=89 and Colo_EsCardetIrr=0 then \"60-89\"\n",
    "else \"Incumpl\" END AS Tramo_Mora\n",
    ",doc_num_operacion as doc_num_operacion_fact\n",
    ",doc_id_documento as doc_id_documento_fact\n",
    "--,doc_ind_fin_mes\n",
    "--,dpf_pct_pi\n",
    "--,dpf_pct_pdi\n",
    "--,dpf_mto_pe\n",
    "--,cli_rut\n",
    ",Responsabilidad_CedenteFactoring\n",
    ",Tipo_Prestamo\n",
    "--,Periodo_Id\n",
    ",Ind_Castigo\n",
    ",Colo_EsCardetIrr\n",
    "--,Calif_Deudor_Permitida\n",
    ",PI\n",
    ",PDI\n",
    ",PI_A\n",
    ",PDI_A\n",
    "--,Mitigador\n",
    ",PI*PDI*Deuda_TotalIFRS AS PROV_d00\n",
    ",\"BCI\" AS Banco\n",
    ",Tipo_Prestamo AS Prestamo\n",
    ",CASE WHEN trim(Tipo_Prestamo)=\"ESTUDIANTIL\" then \"EST\"\n",
    "WHEN trim(Tipo_Prestamo)=\"LEASING\" then \"LEA\"\n",
    "else \"COM\" END AS Matriz\n",
    ",PI * PDI AS PE\n",
    ",PI_A * PDI_A AS PE_A\n",
    ",1 AS FACT_A\n",
    ",'\"\"\"+anomesdia3+\"\"\"' AS periodo\n",
    ",CASE WHEN trim(pdt_des_cra)=\"IC\" or trim(pdt_des_cra)=\"IF\" or trim(pdt_des_cra)=\"EF\" or trim(pdt_des_cra)=\"BF\" then 24 \n",
    "ELSE 23 END AS Negocio_Id\n",
    ",CASE WHEN Calif_Deudor_Permitida=1 then \"AVL\" ELSE \"\" END AS tipo\n",
    ",CASE WHEN Calif_Deudor_Permitida=1 then Deuda_TotalIFRS ELSE 0 END AS Monto_Avalado\n",
    ",PROV_d00 as PROV_cm\n",
    "from \"\"\"+platinum_temp_dbX+\"\"\".Tmp_Fundir_Prov_d00\n",
    ")\n",
    "\"\"\""
   ]
  },
  {
   "cell_type": "code",
   "execution_count": 0,
   "metadata": {
    "application/vnd.databricks.v1+cell": {
     "cellMetadata": {
      "byteLimit": 2048000,
      "rowLimit": 10000
     },
     "inputWidgets": {},
     "nuid": "e3f4e6ce-5cc5-4356-a9ce-5d88b13878a0",
     "showTitle": false,
     "tableResultSettingsMap": {},
     "title": ""
    }
   },
   "outputs": [
    {
     "output_type": "stream",
     "name": "stdout",
     "output_type": "stream",
     "text": [
      "sql_safe: query ->  CREATE TABLE IF NOT EXISTS dsr_plt_bcitemp_db.Tmp_Prov_Gr_Com_Fact_B1_Result_0719 \nUSING DELTA\nPARTITIONED BY (periodo)\nLOCATION 'abfss://platinum@bcirg2dlssbx.dfs.core.windows.net/plt_normativo_db/prv_hip/Tmp_Prov_Gr_Com_Fact_B1_Result_0719'\nAS (\nselect \nCod_niid AS ope_num\n--,dpf_fec_proceso\n,cli_idc as rut\n,cli_vrt as dv\n--,cli_rzn_soc\n,ddr_idc as rut_deudor_fact\n,ddr_vrt as dv_deudor_fact\n--,ddr_rzn_soc\n--,pdt_des_cra\n,doc_num_documento\n--,doc_num_cuota\n,Deuda_TotalIFRS\n--,dod_cod_cobranza\n--,cod_aec\n--,dpf_ind_responsabilidad\n--,dpf_fec_vencimiento\n,Clasificacion as seg_n2\n--,dod_ind_cartera\n--,Clasificacion_Cliente\n,Clasificacion_Deudor as Clasificacion_Deudor_fact\n,Dias_Mora\n,CASE WHEN Dias_Mora=0 and Colo_EsCardetIrr=0 then \"0\"\nWHEN Dias_Mora>=1 and Dias_Mora<=29 and Colo_EsCardetIrr=0 then \"1-29\"\nWHEN Dias_Mora>=30 and Dias_Mora<=59 and Colo_EsCardetIrr=0 then \"30-59\"\nWHEN Dias_Mora>=60 and Dias_Mora<=89 and Colo_EsCardetIrr=0 then \"60-89\"\nelse \"Incumpl\" END AS Tramo_Mora\n,doc_num_operacion as doc_num_operacion_fact\n,doc_id_documento as doc_id_documento_fact\n--,doc_ind_fin_mes\n--,dpf_pct_pi\n--,dpf_pct_pdi\n--,dpf_mto_pe\n--,cli_rut\n,Responsabilidad_CedenteFactoring\n,Tipo_Prestamo\n--,Periodo_Id\n,Ind_Castigo\n,Colo_EsCardetIrr\n--,Calif_Deudor_Permitida\n,PI\n,PDI\n,PI_A\n,PDI_A\n--,Mitigador\n,PI*PDI*Deuda_TotalIFRS AS PROV_d00\n,\"BCI\" AS Banco\n,Tipo_Prestamo AS Prestamo\n,CASE WHEN trim(Tipo_Prestamo)=\"ESTUDIANTIL\" then \"EST\"\nWHEN trim(Tipo_Prestamo)=\"LEASING\" then \"LEA\"\nelse \"COM\" END AS Matriz\n,PI * PDI AS PE\n,PI_A * PDI_A AS PE_A\n,1 AS FACT_A\n,'2025-05-01' AS periodo\n,CASE WHEN trim(pdt_des_cra)=\"IC\" or trim(pdt_des_cra)=\"IF\" or trim(pdt_des_cra)=\"EF\" or trim(pdt_des_cra)=\"BF\" then 24 \nELSE 23 END AS Negocio_Id\n,CASE WHEN Calif_Deudor_Permitida=1 then \"AVL\" ELSE \"\" END AS tipo\n,CASE WHEN Calif_Deudor_Permitida=1 then Deuda_TotalIFRS ELSE 0 END AS Monto_Avalado\n,PROV_d00 as PROV_cm\nfrom dsr_plt_bcitemp_db.Tmp_Fundir_Prov_d00\n)\n\n"
     ]
    },
    {
     "output_type": "execute_result",
     "data": {
      "text/plain": [
       "DataFrame[num_affected_rows: bigint, num_inserted_rows: bigint]"
      ]
     },
     "execution_count": 32,
     "metadata": {},
     "output_type": "execute_result"
    }
   ],
   "source": [
    "sql_safe(create_tmp_008_Tmp_Prov_Gr_Com_Fact_B1_Result_0719)"
   ]
  },
  {
   "cell_type": "markdown",
   "metadata": {
    "application/vnd.databricks.v1+cell": {
     "cellMetadata": {
      "byteLimit": 2048000,
      "rowLimit": 10000
     },
     "inputWidgets": {},
     "nuid": "9287dc73-8411-4c16-88a7-5ec98d1f2bc8",
     "showTitle": false,
     "tableResultSettingsMap": {},
     "title": ""
    }
   },
   "source": [
    "## Mensaje Final"
   ]
  },
  {
   "cell_type": "code",
   "execution_count": 0,
   "metadata": {
    "application/vnd.databricks.v1+cell": {
     "cellMetadata": {
      "byteLimit": 2048000,
      "rowLimit": 10000
     },
     "inputWidgets": {},
     "nuid": "e3b9a0e1-747f-4b2d-95f6-5cce3c957c94",
     "showTitle": false,
     "tableResultSettingsMap": {},
     "title": ""
    }
   },
   "outputs": [],
   "source": [
    "dbutils.notebook.exit(\"{\\\"coderror\\\":\\\"0\\\", \\\"msgerror\\\":\\\"Notebook termina ejecucion satisfactoriamente\\\"}\")"
   ]
  }
 ],
 "metadata": {
  "application/vnd.databricks.v1+notebook": {
   "computePreferences": null,
   "dashboards": [],
   "environmentMetadata": {
    "base_environment": "",
    "environment_version": "2"
   },
   "inputWidgetPreferences": null,
   "language": "python",
   "notebookMetadata": {
    "mostRecentlyExecutedCommandWithImplicitDF": {
     "commandId": 7300217550432682,
     "dataframes": [
      "_sqldf"
     ]
    },
    "pythonIndentUnit": 2
   },
   "notebookName": "BCI_005_Matriz_Comercial_B1_Factoring",
   "widgets": {
    "db_location_platinum_tempW": {
     "currentValue": "abfss://platinum@bcirg2dlssbx.dfs.core.windows.net/plt_normativo_db/prv_hip/",
     "nuid": "161a7914-759e-4224-b705-813c1753b5ba",
     "typedWidgetInfo": {
      "autoCreated": false,
      "defaultValue": "",
      "label": "03 Location DB Platinum Temp:",
      "name": "db_location_platinum_tempW",
      "options": {
       "widgetDisplayType": "Text",
       "validationRegex": null
      },
      "parameterDataType": "String"
     },
     "widgetInfo": {
      "widgetType": "text",
      "defaultValue": "",
      "label": "03 Location DB Platinum Temp:",
      "name": "db_location_platinum_tempW",
      "options": {
       "widgetType": "text",
       "autoCreated": null,
       "validationRegex": null
      }
     }
    },
    "fechaProcesoW": {
     "currentValue": "20250530",
     "nuid": "ea1600ad-d1c3-4fe1-9ede-1984d7bdd2f5",
     "typedWidgetInfo": {
      "autoCreated": false,
      "defaultValue": "",
      "label": "01 Fecha Proceso :",
      "name": "fechaProcesoW",
      "options": {
       "widgetDisplayType": "Text",
       "validationRegex": null
      },
      "parameterDataType": "String"
     },
     "widgetInfo": {
      "widgetType": "text",
      "defaultValue": "",
      "label": "01 Fecha Proceso :",
      "name": "fechaProcesoW",
      "options": {
       "widgetType": "text",
       "autoCreated": null,
       "validationRegex": null
      }
     }
    },
    "platinum_temp_dbW": {
     "currentValue": "dsr_plt_bcitemp_db",
     "nuid": "bec8fe43-befe-45d2-8c8d-0ef4ac9b15aa",
     "typedWidgetInfo": {
      "autoCreated": false,
      "defaultValue": "",
      "label": "02 platinum temp db:",
      "name": "platinum_temp_dbW",
      "options": {
       "widgetDisplayType": "Text",
       "validationRegex": null
      },
      "parameterDataType": "String"
     },
     "widgetInfo": {
      "widgetType": "text",
      "defaultValue": "",
      "label": "02 platinum temp db:",
      "name": "platinum_temp_dbW",
      "options": {
       "widgetType": "text",
       "autoCreated": null,
       "validationRegex": null
      }
     }
    }
   }
  },
  "language_info": {
   "name": "python"
  }
 },
 "nbformat": 4,
 "nbformat_minor": 0
}