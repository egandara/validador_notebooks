{
 "cells": [
  {
   "cell_type": "markdown",
   "metadata": {
    "application/vnd.databricks.v1+cell": {
     "cellMetadata": {
      "byteLimit": 2048000,
      "rowLimit": 10000
     },
     "inputWidgets": {},
     "nuid": "05c549e4-172f-4412-b6b5-bc0b7aa5b513",
     "showTitle": false,
     "tableResultSettingsMap": {},
     "title": ""
    }
   },
   "source": [
    "# BCI_001_Matriz_Comercial_B1_Factoring"
   ]
  },
  {
   "cell_type": "markdown",
   "metadata": {
    "application/vnd.databricks.v1+cell": {
     "cellMetadata": {
      "byteLimit": 2048000,
      "rowLimit": 10000
     },
     "inputWidgets": {},
     "nuid": "25a12bf2-59b0-44a7-9368-52f71dacd288",
     "showTitle": false,
     "tableResultSettingsMap": {},
     "title": ""
    }
   },
   "source": [
    "## Información del Notebook"
   ]
  },
  {
   "cell_type": "markdown",
   "metadata": {
    "application/vnd.databricks.v1+cell": {
     "cellMetadata": {
      "byteLimit": 2048000,
      "rowLimit": 10000
     },
     "inputWidgets": {},
     "nuid": "04623c94-9e07-44a3-9e84-ca8508415f97",
     "showTitle": false,
     "tableResultSettingsMap": {},
     "title": ""
    }
   },
   "source": [
    "### Encabezado\n",
    "**************************************************************************\n",
    "* Nombre: BCI_001_Factoring.ipynb\n",
    "* Ruta: \n",
    "* Autor: Esteban Gándara\n",
    "* Ing. Rafael Montecinos - rafael.montecinost@bci.cl\n",
    "* Fecha: 19/05/2025\n",
    "* Descripción: \n",
    "* Documentación: \n",
    "***************************************************************************"
   ]
  },
  {
   "cell_type": "markdown",
   "metadata": {
    "application/vnd.databricks.v1+cell": {
     "cellMetadata": {
      "byteLimit": 2048000,
      "rowLimit": 10000
     },
     "inputWidgets": {},
     "nuid": "a628f4b2-9cbb-4817-99d2-a2abbcd700ff",
     "showTitle": false,
     "tableResultSettingsMap": {},
     "title": ""
    }
   },
   "source": [
    "### Mantenciones\n",
    "**************************************************************************\n",
    "#### Mantención Nro: \n",
    "* Autor: <Nombre Autor> (<Empresa del Autor (Bci/Otra)>) - Ing. SW BCI: <Nombre Ing. SW BCI>\n",
    "* Fecha: <dd/mm/yyyy> \n",
    "* Descripción: <Descripción de la mantención>      \n",
    "************************************************"
   ]
  },
  {
   "cell_type": "markdown",
   "metadata": {
    "application/vnd.databricks.v1+cell": {
     "cellMetadata": {
      "byteLimit": 2048000,
      "rowLimit": 10000
     },
     "inputWidgets": {},
     "nuid": "a6fede2e-df47-4d35-a0b8-2be8a541708d",
     "showTitle": false,
     "tableResultSettingsMap": {},
     "title": ""
    }
   },
   "source": [
    "### Tablas Entrada y Salida\n",
    "**************************************************************************\n",
    "#### Tablas Entrada: \n",
    "* \n",
    "* \n",
    "***************************************************************************\n",
    "#### Tablas Salida: \n",
    "* "
   ]
  },
  {
   "cell_type": "markdown",
   "metadata": {
    "application/vnd.databricks.v1+cell": {
     "cellMetadata": {
      "byteLimit": 2048000,
      "rowLimit": 10000
     },
     "inputWidgets": {},
     "nuid": "bc211d01-87f6-4387-bc7a-8a1302e5496b",
     "showTitle": false,
     "tableResultSettingsMap": {},
     "title": ""
    }
   },
   "source": [
    "## Captura de Variables"
   ]
  },
  {
   "cell_type": "code",
   "execution_count": 0,
   "metadata": {
    "application/vnd.databricks.v1+cell": {
     "cellMetadata": {
      "byteLimit": 2048000,
      "rowLimit": 10000
     },
     "inputWidgets": {},
     "nuid": "aef3ce66-8d94-4c2b-b9c2-e658b1494554",
     "showTitle": false,
     "tableResultSettingsMap": {},
     "title": ""
    }
   },
   "outputs": [],
   "source": [
    "dbutils.widgets.removeAll()\n",
    "dbutils.widgets.text(\"fechaProcesoW\",\"\",\"01 Fecha Proceso :\")\n",
    "dbutils.widgets.text(\"platinum_temp_dbW\",\"\",\"02 platinum temp db:\")\n",
    "dbutils.widgets.text(\"db_location_platinum_tempW\",\"\",\"03 Location DB Platinum Temp:\")"
   ]
  },
  {
   "cell_type": "markdown",
   "metadata": {
    "application/vnd.databricks.v1+cell": {
     "cellMetadata": {
      "byteLimit": 2048000,
      "rowLimit": 10000
     },
     "inputWidgets": {},
     "nuid": "0decf2a1-f297-47a4-88c6-6b2d12f97b8d",
     "showTitle": false,
     "tableResultSettingsMap": {},
     "title": ""
    }
   },
   "source": [
    "### Asignar Objeto a Lectura de Widgets y Variables"
   ]
  },
  {
   "cell_type": "code",
   "execution_count": 0,
   "metadata": {
    "application/vnd.databricks.v1+cell": {
     "cellMetadata": {
      "byteLimit": 2048000,
      "rowLimit": 10000
     },
     "inputWidgets": {},
     "nuid": "27f70334-ac72-4b10-b09f-cfeb3ad884b4",
     "showTitle": false,
     "tableResultSettingsMap": {},
     "title": ""
    }
   },
   "outputs": [
    {
     "output_type": "stream",
     "name": "stdout",
     "output_type": "stream",
     "text": [
      "*****Parámetros*****\nfechaProcesoX: 20250530\nplatinum_temp_dbX: dsr_plt_bcitemp_db\ndb_location_platinum_tempX: abfss://platinum@bcirg2dlssbx.dfs.core.windows.net/plt_normativo_db/prv_hip/\n"
     ]
    }
   ],
   "source": [
    "fechaProcesoX = dbutils.widgets.get(\"fechaProcesoW\")\n",
    "spark.conf.set(\"bci.fechaProcesoX\", fechaProcesoX)\n",
    "\n",
    "platinum_temp_dbX = dbutils.widgets.get(\"platinum_temp_dbW\")\n",
    "spark.conf.set(\"bci.platinum_temp_dbX\", platinum_temp_dbX)\n",
    "\n",
    "db_location_platinum_tempX = dbutils.widgets.get(\"db_location_platinum_tempW\")\n",
    "spark.conf.set(\"bci.db_location_platinum_tempX\", db_location_platinum_tempX)\n",
    "\n",
    "print(\"*****Parámetros*****\")\n",
    "print(\"fechaProcesoX: \" + fechaProcesoX)\n",
    "print(\"platinum_temp_dbX: \" + platinum_temp_dbX)\n",
    "print(\"db_location_platinum_tempX: \" + db_location_platinum_tempX)"
   ]
  },
  {
   "cell_type": "markdown",
   "metadata": {
    "application/vnd.databricks.v1+cell": {
     "cellMetadata": {
      "byteLimit": 2048000,
      "rowLimit": 10000
     },
     "inputWidgets": {},
     "nuid": "ee868865-1fb1-4dab-a6ea-c72b42d754a0",
     "showTitle": false,
     "tableResultSettingsMap": {},
     "title": ""
    }
   },
   "source": [
    "### Librerías"
   ]
  },
  {
   "cell_type": "code",
   "execution_count": 0,
   "metadata": {
    "application/vnd.databricks.v1+cell": {
     "cellMetadata": {
      "byteLimit": 2048000,
      "rowLimit": 10000
     },
     "inputWidgets": {},
     "nuid": "1dc1e352-4367-4cfe-98c0-7a054b7c15b1",
     "showTitle": false,
     "tableResultSettingsMap": {},
     "title": ""
    }
   },
   "outputs": [],
   "source": [
    "import json\n",
    "from datetime import datetime, date, time, timedelta\n",
    "from dateutil.relativedelta import relativedelta\n",
    "\n",
    "# Obtener fecha actual\n",
    "current_date_str = datetime.now().strftime(\"%Y-%m-%d\")\n",
    "current_date = datetime.strptime(current_date_str, \"%Y-%m-%d\")\n",
    "formatted_date = str(current_date.strftime(\"%Y%m%d\"))"
   ]
  },
  {
   "cell_type": "markdown",
   "metadata": {
    "application/vnd.databricks.v1+cell": {
     "cellMetadata": {
      "byteLimit": 2048000,
      "rowLimit": 10000
     },
     "inputWidgets": {},
     "nuid": "ba71db3c-0559-4126-b58d-5e318376941c",
     "showTitle": false,
     "tableResultSettingsMap": {},
     "title": ""
    }
   },
   "source": [
    "###Asigan Variables de fecha"
   ]
  },
  {
   "cell_type": "code",
   "execution_count": 0,
   "metadata": {
    "application/vnd.databricks.v1+cell": {
     "cellMetadata": {
      "byteLimit": 2048000,
      "rowLimit": 10000
     },
     "inputWidgets": {},
     "nuid": "8ddc6786-404d-48e8-b55e-3913b7e0b182",
     "showTitle": false,
     "tableResultSettingsMap": {},
     "title": ""
    }
   },
   "outputs": [
    {
     "output_type": "stream",
     "name": "stdout",
     "output_type": "stream",
     "text": [
      "fecha_Formato1: 2025\nfecha_Formato2: 05\nfecha_Formato3: 30\nfecha_Formato4: 2025-05-30\nfecha_Formato5: 30-05-2025\nfecha_Formato6: 202505\nfecha_Formato7: 20250530\nfecha_formato8: 2025/05/30\n"
     ]
    }
   ],
   "source": [
    "ano = str(fechaProcesoX)[:4]\n",
    "mes = str(fechaProcesoX)[4:][:2]\n",
    "dia = str(fechaProcesoX)[6:][:2]\n",
    "fechanormativo = str(ano+'-'+mes+'-'+dia)\n",
    "fechacinta = str(dia+'-'+mes+'-'+ano)\n",
    "anomes = str(ano+mes)\n",
    "anomesdia = str(ano+mes+dia)\n",
    "anomesdia2 = str(ano+'/'+mes+'/'+dia)\n",
    "\n",
    "\n",
    "print(\"fecha_Formato1: \" + ano)\n",
    "print(\"fecha_Formato2: \" + mes)\n",
    "print(\"fecha_Formato3: \" + dia)\n",
    "print(\"fecha_Formato4: \" + fechanormativo)\n",
    "print(\"fecha_Formato5: \" + fechacinta)\n",
    "print(\"fecha_Formato6: \" + anomes)\n",
    "print(\"fecha_Formato7: \" + anomesdia)\n",
    "print(\"fecha_formato8: \" + anomesdia2)"
   ]
  },
  {
   "cell_type": "markdown",
   "metadata": {
    "application/vnd.databricks.v1+cell": {
     "cellMetadata": {
      "byteLimit": 2048000,
      "rowLimit": 10000
     },
     "inputWidgets": {},
     "nuid": "44059475-36aa-4084-9fc6-9b4814e83193",
     "showTitle": false,
     "tableResultSettingsMap": {},
     "title": ""
    }
   },
   "source": [
    "## Funciones"
   ]
  },
  {
   "cell_type": "code",
   "execution_count": 0,
   "metadata": {
    "application/vnd.databricks.v1+cell": {
     "cellMetadata": {
      "byteLimit": 2048000,
      "rowLimit": 10000
     },
     "inputWidgets": {},
     "nuid": "5ffc0f79-38a1-4eba-b5ee-b2c8a44dcfea",
     "showTitle": false,
     "tableResultSettingsMap": {},
     "title": ""
    }
   },
   "outputs": [
    {
     "output_type": "display_data",
     "data": {
      "text/markdown": [
       "Fecha vacía"
      ]
     },
     "metadata": {},
     "output_type": "display_data"
    },
    {
     "output_type": "display_data",
     "data": {
      "text/markdown": [
       "Fecha futura"
      ]
     },
     "metadata": {},
     "output_type": "display_data"
    }
   ],
   "source": [
    "%run \"./Funciones\""
   ]
  },
  {
   "cell_type": "markdown",
   "metadata": {
    "application/vnd.databricks.v1+cell": {
     "cellMetadata": {
      "byteLimit": 2048000,
      "rowLimit": 10000
     },
     "inputWidgets": {},
     "nuid": "fa5aa1a1-a71d-4c43-beec-9d6cfdc97cff",
     "showTitle": false,
     "tableResultSettingsMap": {},
     "title": ""
    }
   },
   "source": [
    "## Validaciones"
   ]
  },
  {
   "cell_type": "markdown",
   "metadata": {
    "application/vnd.databricks.v1+cell": {
     "cellMetadata": {
      "byteLimit": 2048000,
      "rowLimit": 10000
     },
     "inputWidgets": {},
     "nuid": "9a295cbd-e097-45e3-879a-de56aa203cee",
     "showTitle": false,
     "tableResultSettingsMap": {},
     "title": ""
    }
   },
   "source": [
    "### Fecha vacía"
   ]
  },
  {
   "cell_type": "code",
   "execution_count": 0,
   "metadata": {
    "application/vnd.databricks.v1+cell": {
     "cellMetadata": {
      "byteLimit": 2048000,
      "rowLimit": 10000
     },
     "inputWidgets": {},
     "nuid": "82b8aff2-c3b8-4482-ba87-a8e8b806d222",
     "showTitle": false,
     "tableResultSettingsMap": {},
     "title": ""
    }
   },
   "outputs": [],
   "source": [
    "fecha_vacia(fechaProcesoX)"
   ]
  },
  {
   "cell_type": "markdown",
   "metadata": {
    "application/vnd.databricks.v1+cell": {
     "cellMetadata": {
      "byteLimit": 2048000,
      "rowLimit": 10000
     },
     "inputWidgets": {},
     "nuid": "18d27c83-60c3-40e8-8d68-d0011994f035",
     "showTitle": false,
     "tableResultSettingsMap": {},
     "title": ""
    }
   },
   "source": [
    "### Fecha futura"
   ]
  },
  {
   "cell_type": "code",
   "execution_count": 0,
   "metadata": {
    "application/vnd.databricks.v1+cell": {
     "cellMetadata": {
      "byteLimit": 2048000,
      "rowLimit": 10000
     },
     "inputWidgets": {},
     "nuid": "d66215b7-b2cc-4ac4-b3ae-01324dcc548f",
     "showTitle": false,
     "tableResultSettingsMap": {},
     "title": ""
    }
   },
   "outputs": [],
   "source": [
    "fecha_futura(fechaProcesoX)"
   ]
  },
  {
   "cell_type": "markdown",
   "metadata": {
    "application/vnd.databricks.v1+cell": {
     "cellMetadata": {
      "byteLimit": 2048000,
      "rowLimit": 10000
     },
     "inputWidgets": {},
     "nuid": "386c89d6-d747-4a24-8e09-e89cc35f2a25",
     "showTitle": false,
     "tableResultSettingsMap": {},
     "title": ""
    }
   },
   "source": [
    "## Inicio de Lógica"
   ]
  },
  {
   "cell_type": "markdown",
   "metadata": {
    "application/vnd.databricks.v1+cell": {
     "cellMetadata": {
      "byteLimit": 2048000,
      "rowLimit": 10000
     },
     "inputWidgets": {},
     "nuid": "d2b70399-458d-4d75-acc5-636fb7462db8",
     "showTitle": false,
     "tableResultSettingsMap": {},
     "title": ""
    }
   },
   "source": [
    "### Creación de tablas temporales que se eliminarán al final de la ejecución\n",
    "\n",
    "**************************************************************************"
   ]
  },
  {
   "cell_type": "code",
   "execution_count": 0,
   "metadata": {
    "application/vnd.databricks.v1+cell": {
     "cellMetadata": {
      "byteLimit": 2048000,
      "rowLimit": 10000
     },
     "inputWidgets": {},
     "nuid": "8f8189e1-b91b-46e0-a7db-59e7e7f6b7b9",
     "showTitle": false,
     "tableResultSettingsMap": {},
     "title": ""
    }
   },
   "outputs": [],
   "source": [
    "drop_tmp_001_Factoring_Nodo = \"\"\" DROP TABLE IF EXISTS \"\"\" + platinum_temp_dbX + \"\"\".Tmp_Factoring_Nodo \"\"\""
   ]
  },
  {
   "cell_type": "code",
   "execution_count": 0,
   "metadata": {
    "application/vnd.databricks.v1+cell": {
     "cellMetadata": {
      "byteLimit": 2048000,
      "rowLimit": 10000
     },
     "inputWidgets": {},
     "nuid": "2e5f8c8a-8716-405e-b2a5-b7218ef77b4d",
     "showTitle": false,
     "tableResultSettingsMap": {},
     "title": ""
    }
   },
   "outputs": [
    {
     "output_type": "stream",
     "name": "stdout",
     "output_type": "stream",
     "text": [
      "sql_safe: query ->  DROP TABLE IF EXISTS dsr_plt_bcitemp_db.Tmp_Factoring_Nodo \n"
     ]
    },
    {
     "output_type": "execute_result",
     "data": {
      "text/plain": [
       "DataFrame[]"
      ]
     },
     "execution_count": 15,
     "metadata": {},
     "output_type": "execute_result"
    }
   ],
   "source": [
    "sql_safe(drop_tmp_001_Factoring_Nodo)"
   ]
  },
  {
   "cell_type": "code",
   "execution_count": 0,
   "metadata": {
    "application/vnd.databricks.v1+cell": {
     "cellMetadata": {
      "byteLimit": 2048000,
      "rowLimit": 10000
     },
     "inputWidgets": {},
     "nuid": "8db75306-c4d5-4f87-b1ca-308abd2dab40",
     "showTitle": false,
     "tableResultSettingsMap": {},
     "title": ""
    }
   },
   "outputs": [
    {
     "output_type": "execute_result",
     "data": {
      "text/plain": [
       "True"
      ]
     },
     "execution_count": 16,
     "metadata": {},
     "output_type": "execute_result"
    }
   ],
   "source": [
    "dbutils.fs.rm(db_location_platinum_tempX+\"Tmp_Factoring_Nodo\", True)"
   ]
  },
  {
   "cell_type": "markdown",
   "metadata": {
    "application/vnd.databricks.v1+cell": {
     "cellMetadata": {},
     "inputWidgets": {},
     "nuid": "3683c8b7-505a-4d37-8ae7-60a3e0682ab0",
     "showTitle": false,
     "tableResultSettingsMap": {},
     "title": ""
    }
   },
   "source": [
    "### **Tabla de salida: dsr_plt_bcitemp_db.Tmp_Factoring_Nodo**\n",
    "\n",
    "**Variables de salida:**\n",
    "\n",
    "* dpf_fec_proceso: Fecha del proceso en formato SSAAMMDD.\n",
    "* cli_idc: Identificador numérico del cliente.\n",
    "* cli_vrt: Dígito verificador del cliente.\n",
    "* cli_rzn_soc: Razón social o nombre del cliente.\n",
    "* ddr_idc: Identificador numérico del deudor.\n",
    "* ddr_vrt: Dígito verificador del deudor.\n",
    "* ddr_rzn_soc: Razón social o nombre del deudor.\n",
    "* pdt_des_cra: Descripción de la cartera del producto.\n",
    "* doc_num_documento: Número identificador del documento.\n",
    "* doc_num_cuota: Número de la cuota dentro del documento.\n",
    "* Monto_Saldo_Cierre: Monto del saldo de la operación al cierre.\n",
    "* dod_cod_cobranza: Código del estado de cobranza de la operación.\n",
    "* cod_aec: Código AEC de la operación.\n",
    "* dpf_ind_responsabilidad: Indicador que define la responsabilidad de la operación.\n",
    "* dpf_fec_vencimiento: Fecha de vencimiento de la cuota.\n",
    "* Clasificacion: Clasifica el segmento en 'G' (Grupal) o 'I' (Individual).\n",
    "* dod_ind_cartera: Indicador que define el tipo de cartera.\n",
    "* dpf_des_cal_cliente: Descripción de la calificación crediticia del cliente.\n",
    "* dpf_des_cal_deudor: Descripción de la calificación crediticia del deudor.\n",
    "* Dias_Mora: Número de días de atraso de la cuota.\n",
    "* doc_num_operacion: Número de la operación de factoring.\n",
    "* doc_id_documento: ID único del documento.\n",
    "* doc_ind_fin_mes: Indicador que marca si el registro es de fin de mes.\n",
    "* dpf_pct_pi: Porcentaje de Provisión Individual.\n",
    "* dpf_pct_pdi: Porcentaje de Provisión de Deterioro Individual.\n",
    "* dpf_mto_pe: Monto de la Pérdida Esperada.\n",
    "* cli_rut: RUT numérico del cliente, sin dígito verificador.\n",
    "* Responsabilidad_CedenteFactoring: Indicador binario (1/0) si la responsabilidad es del Cedente.\n",
    "* Tipo_Prestamo: Campo constante con el valor 'FACTORING'.\n",
    "* Periodo_Id: Fecha del primer día del mes del proceso (formato AAAA-MM-DD).\n",
    "* Ind_Castigo: Indicador binario (1/0) si la cartera está marcada como Castigada."
   ]
  },
  {
   "cell_type": "code",
   "execution_count": 0,
   "metadata": {
    "application/vnd.databricks.v1+cell": {
     "cellMetadata": {
      "byteLimit": 2048000,
      "rowLimit": 10000
     },
     "inputWidgets": {},
     "nuid": "a48e1b5b-01a3-430b-994f-c90abb73c012",
     "showTitle": false,
     "tableResultSettingsMap": {},
     "title": ""
    }
   },
   "outputs": [],
   "source": [
    "create_tmp_001_Factoring_Nodo = \"\"\" CREATE TABLE \"\"\" + platinum_temp_dbX + \"\"\".Tmp_Factoring_Nodo \n",
    "USING DELTA\n",
    "PARTITIONED BY (dpf_fec_proceso)\n",
    "LOCATION '\"\"\" + db_location_platinum_tempX + \"\"\"Tmp_Factoring_Nodo'\n",
    "AS (\n",
    "select dpf_fec_proceso,\n",
    "cli_idc,\n",
    "cli_vrt,\n",
    "cli_rzn_soc,\n",
    "ddr_idc,\n",
    "ddr_vrt,\n",
    "ddr_rzn_soc,\n",
    "pdt_des_cra,\n",
    "doc_num_documento,\n",
    "doc_num_cuota,\n",
    "dod_mto_saldo_cierre AS Monto_Saldo_Cierre,\n",
    "dod_cod_cobranza,\n",
    "cod_aec,\n",
    "dpf_ind_responsabilidad,\n",
    "dpf_fec_vencimiento,\n",
    "CASE WHEN dod_ind_segmento = 'GRUPAL' THEN 'G'\n",
    "WHEN dod_ind_segmento = 'INDIVIDUAL' THEN 'I'\n",
    "ELSE dod_ind_segmento END AS Clasificacion,\n",
    "dod_ind_cartera,\n",
    "dpf_des_cal_cliente,\n",
    "dpf_des_cal_deudor,\n",
    "dod_num_dias AS Dias_Mora,\n",
    "doc_num_operacion,\n",
    "doc_id_documento,\n",
    "doc_ind_fin_mes,\n",
    "dpf_pct_pi,\n",
    "dpf_pct_pdi,\n",
    "dpf_mto_pe,\n",
    "cast(trim(cli_idc) as integer) as cli_rut,\n",
    "CASE WHEN TRIM(dpf_ind_responsabilidad) = 'C' THEN 1\n",
    "ELSE 0 END AS Responsabilidad_CedenteFactoring,\n",
    "'FACTORING' AS Tipo_Prestamo,\n",
    "substr(dpf_fec_proceso,1,4)|| '-' ||substr(dpf_fec_proceso,6,2)|| '-' ||'01' AS Periodo_Id,\n",
    "CASE WHEN trim(pdt_des_cra) = 'CG' THEN 1\n",
    "ELSE 0 END AS Ind_Castigo\n",
    "FROM \"\"\"+platinum_temp_dbX+\"\"\".tmp_dpf_documento_factoring\n",
    "where dpf_fec_proceso = '\"\"\"+anomesdia2+\"\"\"'\n",
    ")\n",
    "\"\"\""
   ]
  },
  {
   "cell_type": "code",
   "execution_count": 0,
   "metadata": {
    "application/vnd.databricks.v1+cell": {
     "cellMetadata": {
      "byteLimit": 2048000,
      "rowLimit": 10000
     },
     "inputWidgets": {},
     "nuid": "e6e106ca-9761-4873-bc11-02ffd214cb89",
     "showTitle": false,
     "tableResultSettingsMap": {},
     "title": ""
    }
   },
   "outputs": [
    {
     "output_type": "stream",
     "name": "stdout",
     "output_type": "stream",
     "text": [
      "sql_safe: query ->  CREATE TABLE dsr_plt_bcitemp_db.Tmp_Factoring_Nodo \nUSING DELTA\nPARTITIONED BY (dpf_fec_proceso)\nLOCATION 'abfss://platinum@bcirg2dlssbx.dfs.core.windows.net/plt_normativo_db/prv_hip/Tmp_Factoring_Nodo'\nAS (\nselect dpf_fec_proceso,\ncli_idc,\ncli_vrt,\ncli_rzn_soc,\nddr_idc,\nddr_vrt,\nddr_rzn_soc,\npdt_des_cra,\ndoc_num_documento,\ndoc_num_cuota,\ndod_mto_saldo_cierre AS Monto_Saldo_Cierre,\ndod_cod_cobranza,\ncod_aec,\ndpf_ind_responsabilidad,\ndpf_fec_vencimiento,\nCASE WHEN dod_ind_segmento = 'GRUPAL' THEN 'G'\nWHEN dod_ind_segmento = 'INDIVIDUAL' THEN 'I'\nELSE dod_ind_segmento END AS Clasificacion,\ndod_ind_cartera,\ndpf_des_cal_cliente,\ndpf_des_cal_deudor,\ndod_num_dias AS Dias_Mora,\ndoc_num_operacion,\ndoc_id_documento,\ndoc_ind_fin_mes,\ndpf_pct_pi,\ndpf_pct_pdi,\ndpf_mto_pe,\ncast(trim(cli_idc) as integer) as cli_rut,\nCASE WHEN TRIM(dpf_ind_responsabilidad) = 'C' THEN 1\nELSE 0 END AS Responsabilidad_CedenteFactoring,\n'FACTORING' AS Tipo_Prestamo,\nsubstr(dpf_fec_proceso,1,4)|| '-' ||substr(dpf_fec_proceso,6,2)|| '-' ||'01' AS Periodo_Id,\nCASE WHEN trim(pdt_des_cra) = 'CG' THEN 1\nELSE 0 END AS Ind_Castigo\nFROM dsr_plt_normativo_db.tmp_dpf_documento_factoring\nwhere dpf_fec_proceso = '2025/05/30'\n)\n\n"
     ]
    },
    {
     "output_type": "execute_result",
     "data": {
      "text/plain": [
       "DataFrame[num_affected_rows: bigint, num_inserted_rows: bigint]"
      ]
     },
     "execution_count": 18,
     "metadata": {},
     "output_type": "execute_result"
    }
   ],
   "source": [
    "sql_safe(create_tmp_001_Factoring_Nodo)"
   ]
  },
  {
   "cell_type": "markdown",
   "metadata": {
    "application/vnd.databricks.v1+cell": {
     "cellMetadata": {
      "byteLimit": 2048000,
      "rowLimit": 10000
     },
     "inputWidgets": {},
     "nuid": "4cdccd50-e481-4e7c-bf22-508564b12a78",
     "showTitle": false,
     "tableResultSettingsMap": {},
     "title": ""
    }
   },
   "source": [
    "## Mensaje Final"
   ]
  },
  {
   "cell_type": "code",
   "execution_count": 0,
   "metadata": {
    "application/vnd.databricks.v1+cell": {
     "cellMetadata": {
      "byteLimit": 2048000,
      "rowLimit": 10000
     },
     "inputWidgets": {},
     "nuid": "94391253-4315-4a68-8430-9470bfce00ea",
     "showTitle": false,
     "tableResultSettingsMap": {},
     "title": ""
    }
   },
   "outputs": [],
   "source": [
    "dbutils.notebook.exit(\"{\\\"coderror\\\":\\\"0\\\", \\\"msgerror\\\":\\\"Notebook termina ejecucion satisfactoriamente\\\"}\")"
   ]
  }
 ],
 "metadata": {
  "application/vnd.databricks.v1+notebook": {
   "computePreferences": null,
   "dashboards": [],
   "environmentMetadata": {
    "base_environment": "",
    "environment_version": "2"
   },
   "inputWidgetPreferences": null,
   "language": "python",
   "notebookMetadata": {
    "mostRecentlyExecutedCommandWithImplicitDF": {
     "commandId": 7300217550432657,
     "dataframes": [
      "_sqldf"
     ]
    },
    "pythonIndentUnit": 2
   },
   "notebookName": "BCI_001_Matriz_Comercial_B1_Factoring",
   "widgets": {
    "db_location_platinum_tempW": {
     "currentValue": "abfss://platinum@bcirg2dlssbx.dfs.core.windows.net/plt_normativo_db/prv_hip/",
     "nuid": "c59d56c1-acc0-4ab3-826d-dc47f76ecf59",
     "typedWidgetInfo": {
      "autoCreated": false,
      "defaultValue": "",
      "label": "03 Location DB Platinum Temp:",
      "name": "db_location_platinum_tempW",
      "options": {
       "widgetDisplayType": "Text",
       "validationRegex": null
      },
      "parameterDataType": "String"
     },
     "widgetInfo": {
      "widgetType": "text",
      "defaultValue": "",
      "label": "03 Location DB Platinum Temp:",
      "name": "db_location_platinum_tempW",
      "options": {
       "widgetType": "text",
       "autoCreated": null,
       "validationRegex": null
      }
     }
    },
    "fechaProcesoW": {
     "currentValue": "20250530",
     "nuid": "9689a5aa-753f-497c-97b8-9a80194e24a0",
     "typedWidgetInfo": {
      "autoCreated": false,
      "defaultValue": "",
      "label": "01 Fecha Proceso :",
      "name": "fechaProcesoW",
      "options": {
       "widgetDisplayType": "Text",
       "validationRegex": null
      },
      "parameterDataType": "String"
     },
     "widgetInfo": {
      "widgetType": "text",
      "defaultValue": "",
      "label": "01 Fecha Proceso :",
      "name": "fechaProcesoW",
      "options": {
       "widgetType": "text",
       "autoCreated": null,
       "validationRegex": null
      }
     }
    },
    "platinum_temp_dbW": {
     "currentValue": "dsr_plt_bcitemp_db",
     "nuid": "9515ab78-8bbe-4a18-8029-097c6addc8ba",
     "typedWidgetInfo": {
      "autoCreated": false,
      "defaultValue": "",
      "label": "02 platinum temp db:",
      "name": "platinum_temp_dbW",
      "options": {
       "widgetDisplayType": "Text",
       "validationRegex": null
      },
      "parameterDataType": "String"
     },
     "widgetInfo": {
      "widgetType": "text",
      "defaultValue": "",
      "label": "02 platinum temp db:",
      "name": "platinum_temp_dbW",
      "options": {
       "widgetType": "text",
       "autoCreated": null,
       "validationRegex": null
      }
     }
    }
   }
  },
  "language_info": {
   "name": "python"
  }
 },
 "nbformat": 4,
 "nbformat_minor": 0
}